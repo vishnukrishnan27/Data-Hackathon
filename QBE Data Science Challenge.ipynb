{
 "cells": [
  {
   "cell_type": "code",
   "execution_count": null,
   "metadata": {
    "collapsed": true
   },
   "outputs": [],
   "source": [
    "# Project Objective:\n",
    "    \n",
    "     * To predict which of the Policies are likely to incur a Claim based on past Claims Experience\n",
    "\n",
    "# Data Scope and Assumptions:\n",
    "    \n",
    "    1. Data Duration: 2010 - 2014\n",
    "    2. Level of Data: Policy - Each record in the data represents a unique policy.\n",
    "                      All metrics including Gross Premium, Number of Employees, Claim Frequency, \n",
    "                      Net Incurred Claim Cost etc. are calculated for each policy\n",
    "    3.Calculations:\n",
    "    4.Assumptions:\n",
    "            \n",
    "            1. Each record represents a unique policy\n",
    "            2. Whenever a policy gets renewed, they are treated as a nfresh new policy as Underwriting is performed \n",
    "               at the time of Policy Renewal\n",
    "                       \n",
    "    5.Data Challenges and Resolution:\n",
    "            \n",
    "            1. There are multiple fields with same name, but with different entries for a specific record\n",
    "            2. Duplicates are present at the overall data. Duplicate records are removed\n",
    "            3. Very less data is present for 2010,2011, and 2012. 2013 and 2014 contribute the maximum\n",
    "            4. PolicyCancellationDate field has no values poluated through out the data. Hence the column is dropped\n",
    "            5. ALl other fields have a good fill rate\n",
    "            \n",
    "    6.Key Findings from the EDA:\n",
    "        \n",
    "            1. Overall:\n",
    "                *Even though the number of Claims received in 2011 and 2014 ae more than their respective previous years,\n",
    "                 there is a drop for Claim Incurred Cost for both these years\n",
    "            2. Business Type:\n",
    "                *Even though the number of Claims lodged by Renewal business is almost half the claims loged by \n",
    "                *New Business,the Incurred Cost for Renewal Business stands very low compared to the Incurred Cost \n",
    "                 for New Business\n",
    "            3. Public Liability Limit:\n",
    "                *Policies with 2M Limit brings the maximum number of Claims followed by 1M, 5M and 10M.\n",
    "                *However, CLaim Incurred Cost is highest for policies with 5M limit, followed by 2M, 1M and 10M\n",
    "            4. Employers Liability Limit:\n",
    "                *Policies with 0 Employers Liability limit is the highest in terms of Volume\n",
    "                *However, in terms of premium policies with 10M imit contributes the highest \n",
    "                *Claim Incurred Cost is highest for Policies with 10M limit\n",
    "            5. Professional Indemnity Limit:\n",
    "                *For policies with 1M Professional Indemnity, has a relatively higher Policy Volume\n",
    "                *However, for policies with 2M have a higher Claim Incurred Cost\n",
    "            6. Trade Category:\n",
    "                *Negligle number of claims are received for Arts & Crafts, and Catering Categories\n",
    "                *Even though the number of Claims received are higher for Professional, Incurred Cost for the same is \n",
    "                 very less\n",
    "                *Net Incurred Cost is highest for Building/Allied, followed by Mech/Allied, Cleaning and Decline categories\n",
    "\n",
    "            \n",
    "\n",
    "\n",
    "\n",
    "\n",
    "            \n",
    "----------------------------------------------------------------------------------------------------------------------------"
   ]
  },
  {
   "cell_type": "code",
   "execution_count": 3,
   "metadata": {},
   "outputs": [],
   "source": [
    "# Import Necessary Libraries\n",
    "\n",
    "\n",
    "import numpy as np\n",
    "import pandas as pd\n",
    "import matplotlib.pyplot as plt\n",
    "import seaborn as sns\n",
    "sns.set_style('whitegrid')\n",
    "%matplotlib inline\n",
    "\n",
    "from matplotlib.pyplot import pie, axis, show\n",
    "\n",
    "# machine learning\n",
    "from sklearn.linear_model import LogisticRegression\n",
    "from sklearn.svm import SVC, LinearSVC\n",
    "from sklearn.ensemble import RandomForestClassifier"
   ]
  },
  {
   "cell_type": "code",
   "execution_count": 4,
   "metadata": {
    "collapsed": true
   },
   "outputs": [],
   "source": [
    "# Import the required data files from excel\n",
    "\n",
    "policy_data = pd.read_csv('policy_data.csv')"
   ]
  },
  {
   "cell_type": "code",
   "execution_count": 5,
   "metadata": {},
   "outputs": [
    {
     "data": {
      "text/html": [
       "<div>\n",
       "<style>\n",
       "    .dataframe thead tr:only-child th {\n",
       "        text-align: right;\n",
       "    }\n",
       "\n",
       "    .dataframe thead th {\n",
       "        text-align: left;\n",
       "    }\n",
       "\n",
       "    .dataframe tbody tr th {\n",
       "        vertical-align: top;\n",
       "    }\n",
       "</style>\n",
       "<table border=\"1\" class=\"dataframe\">\n",
       "  <thead>\n",
       "    <tr style=\"text-align: right;\">\n",
       "      <th></th>\n",
       "      <th>Source_System</th>\n",
       "      <th>Product</th>\n",
       "      <th>Underwriting_Year</th>\n",
       "      <th>Effective_Date</th>\n",
       "      <th>Expiry_Date</th>\n",
       "      <th>Transaction_Type</th>\n",
       "      <th>Public_Liability_Limit</th>\n",
       "      <th>Employers_Liability_Limit</th>\n",
       "      <th>Tools_Sum_Insured</th>\n",
       "      <th>Professional_Indemnity_Limit</th>\n",
       "      <th>...</th>\n",
       "      <th>Location</th>\n",
       "      <th>Public_Liability_Limit_5000000.2</th>\n",
       "      <th>Public_Liability_Limit_5000000.3</th>\n",
       "      <th>Professional_Indemnity_Limit_g</th>\n",
       "      <th>Risk_Postcode2</th>\n",
       "      <th>TotalEmployees</th>\n",
       "      <th>Claim_Count</th>\n",
       "      <th>Claim_Incurred</th>\n",
       "      <th>Capped_Incurred_(£50k)</th>\n",
       "      <th>Capped_Incurred_(£100k)</th>\n",
       "    </tr>\n",
       "  </thead>\n",
       "  <tbody>\n",
       "    <tr>\n",
       "      <th>0</th>\n",
       "      <td>Simply Business</td>\n",
       "      <td>Maltings Tradesman</td>\n",
       "      <td>2014</td>\n",
       "      <td>19/09/2014 1:00</td>\n",
       "      <td>18/09/2015 1:00</td>\n",
       "      <td>New Business</td>\n",
       "      <td>1000000</td>\n",
       "      <td>0</td>\n",
       "      <td>0.0</td>\n",
       "      <td>50000</td>\n",
       "      <td>...</td>\n",
       "      <td>BRIGHTON</td>\n",
       "      <td>0</td>\n",
       "      <td>0</td>\n",
       "      <td>1</td>\n",
       "      <td>BN21 3</td>\n",
       "      <td>1</td>\n",
       "      <td>0</td>\n",
       "      <td>0.0</td>\n",
       "      <td>0.0</td>\n",
       "      <td>0.0</td>\n",
       "    </tr>\n",
       "    <tr>\n",
       "      <th>1</th>\n",
       "      <td>Simply Business</td>\n",
       "      <td>Maltings Tradesman</td>\n",
       "      <td>2014</td>\n",
       "      <td>8/10/2014 1:00</td>\n",
       "      <td>7/10/2015 1:00</td>\n",
       "      <td>New Business</td>\n",
       "      <td>5000000</td>\n",
       "      <td>0</td>\n",
       "      <td>0.0</td>\n",
       "      <td>0</td>\n",
       "      <td>...</td>\n",
       "      <td>BRISTOL</td>\n",
       "      <td>1</td>\n",
       "      <td>0</td>\n",
       "      <td>0</td>\n",
       "      <td>BS15 4</td>\n",
       "      <td>1</td>\n",
       "      <td>0</td>\n",
       "      <td>0.0</td>\n",
       "      <td>0.0</td>\n",
       "      <td>0.0</td>\n",
       "    </tr>\n",
       "    <tr>\n",
       "      <th>2</th>\n",
       "      <td>Simply Business</td>\n",
       "      <td>Maltings Tradesman</td>\n",
       "      <td>2014</td>\n",
       "      <td>18/09/2014 1:00</td>\n",
       "      <td>17/09/2015 1:00</td>\n",
       "      <td>New Business</td>\n",
       "      <td>5000000</td>\n",
       "      <td>10000000</td>\n",
       "      <td>4000.0</td>\n",
       "      <td>0</td>\n",
       "      <td>...</td>\n",
       "      <td>NORTHAMPTON</td>\n",
       "      <td>1</td>\n",
       "      <td>0</td>\n",
       "      <td>0</td>\n",
       "      <td>NN10 8</td>\n",
       "      <td>8</td>\n",
       "      <td>0</td>\n",
       "      <td>0.0</td>\n",
       "      <td>0.0</td>\n",
       "      <td>0.0</td>\n",
       "    </tr>\n",
       "    <tr>\n",
       "      <th>3</th>\n",
       "      <td>Simply Business</td>\n",
       "      <td>Maltings Tradesman</td>\n",
       "      <td>2014</td>\n",
       "      <td>3/10/2014 1:00</td>\n",
       "      <td>2/10/2015 1:00</td>\n",
       "      <td>New Business</td>\n",
       "      <td>2000000</td>\n",
       "      <td>0</td>\n",
       "      <td>2000.0</td>\n",
       "      <td>0</td>\n",
       "      <td>...</td>\n",
       "      <td>CAMBRIDGE</td>\n",
       "      <td>0</td>\n",
       "      <td>0</td>\n",
       "      <td>0</td>\n",
       "      <td>CB8 7</td>\n",
       "      <td>10</td>\n",
       "      <td>0</td>\n",
       "      <td>0.0</td>\n",
       "      <td>0.0</td>\n",
       "      <td>0.0</td>\n",
       "    </tr>\n",
       "    <tr>\n",
       "      <th>4</th>\n",
       "      <td>Simply Business</td>\n",
       "      <td>Maltings Tradesman</td>\n",
       "      <td>2014</td>\n",
       "      <td>20/09/2014 1:00</td>\n",
       "      <td>19/09/2015 1:00</td>\n",
       "      <td>New Business</td>\n",
       "      <td>1000000</td>\n",
       "      <td>0</td>\n",
       "      <td>0.0</td>\n",
       "      <td>1000000</td>\n",
       "      <td>...</td>\n",
       "      <td>NEWCASTLE UPON TYNE</td>\n",
       "      <td>0</td>\n",
       "      <td>0</td>\n",
       "      <td>1</td>\n",
       "      <td>NE5 1</td>\n",
       "      <td>1</td>\n",
       "      <td>0</td>\n",
       "      <td>0.0</td>\n",
       "      <td>0.0</td>\n",
       "      <td>0.0</td>\n",
       "    </tr>\n",
       "  </tbody>\n",
       "</table>\n",
       "<p>5 rows × 67 columns</p>\n",
       "</div>"
      ],
      "text/plain": [
       "     Source_System             Product  Underwriting_Year   Effective_Date  \\\n",
       "0  Simply Business  Maltings Tradesman               2014  19/09/2014 1:00   \n",
       "1  Simply Business  Maltings Tradesman               2014   8/10/2014 1:00   \n",
       "2  Simply Business  Maltings Tradesman               2014  18/09/2014 1:00   \n",
       "3  Simply Business  Maltings Tradesman               2014   3/10/2014 1:00   \n",
       "4  Simply Business  Maltings Tradesman               2014  20/09/2014 1:00   \n",
       "\n",
       "       Expiry_Date Transaction_Type  Public_Liability_Limit  \\\n",
       "0  18/09/2015 1:00     New Business                 1000000   \n",
       "1   7/10/2015 1:00     New Business                 5000000   \n",
       "2  17/09/2015 1:00     New Business                 5000000   \n",
       "3   2/10/2015 1:00     New Business                 2000000   \n",
       "4  19/09/2015 1:00     New Business                 1000000   \n",
       "\n",
       "   Employers_Liability_Limit  Tools_Sum_Insured  Professional_Indemnity_Limit  \\\n",
       "0                          0                0.0                         50000   \n",
       "1                          0                0.0                             0   \n",
       "2                   10000000             4000.0                             0   \n",
       "3                          0             2000.0                             0   \n",
       "4                          0                0.0                       1000000   \n",
       "\n",
       "            ...                       Location  \\\n",
       "0           ...                       BRIGHTON   \n",
       "1           ...                        BRISTOL   \n",
       "2           ...                    NORTHAMPTON   \n",
       "3           ...                      CAMBRIDGE   \n",
       "4           ...            NEWCASTLE UPON TYNE   \n",
       "\n",
       "   Public_Liability_Limit_5000000.2  Public_Liability_Limit_5000000.3  \\\n",
       "0                                 0                                 0   \n",
       "1                                 1                                 0   \n",
       "2                                 1                                 0   \n",
       "3                                 0                                 0   \n",
       "4                                 0                                 0   \n",
       "\n",
       "  Professional_Indemnity_Limit_g Risk_Postcode2  TotalEmployees  Claim_Count  \\\n",
       "0                              1         BN21 3               1            0   \n",
       "1                              0         BS15 4               1            0   \n",
       "2                              0         NN10 8               8            0   \n",
       "3                              0          CB8 7              10            0   \n",
       "4                              1          NE5 1               1            0   \n",
       "\n",
       "   Claim_Incurred Capped_Incurred_(£50k) Capped_Incurred_(£100k)  \n",
       "0             0.0                    0.0                     0.0  \n",
       "1             0.0                    0.0                     0.0  \n",
       "2             0.0                    0.0                     0.0  \n",
       "3             0.0                    0.0                     0.0  \n",
       "4             0.0                    0.0                     0.0  \n",
       "\n",
       "[5 rows x 67 columns]"
      ]
     },
     "execution_count": 5,
     "metadata": {},
     "output_type": "execute_result"
    }
   ],
   "source": [
    "# View the imported policy data to have a quick glimpse of Fields and Field Values\n",
    "\n",
    "policy_data.head()"
   ]
  },
  {
   "cell_type": "code",
   "execution_count": 6,
   "metadata": {},
   "outputs": [
    {
     "name": "stdout",
     "output_type": "stream",
     "text": [
      "Number of records, features in the data: (232962, 67)\n"
     ]
    }
   ],
   "source": [
    "# Understand the dimensions of the data\n",
    "\n",
    "print('Number of records, features in the data:',policy_data.shape)"
   ]
  },
  {
   "cell_type": "markdown",
   "metadata": {},
   "source": [
    "**Check for Duplicate Records in the Overall Data**"
   ]
  },
  {
   "cell_type": "code",
   "execution_count": 7,
   "metadata": {},
   "outputs": [
    {
     "data": {
      "text/plain": [
       "(232962, 67)"
      ]
     },
     "execution_count": 7,
     "metadata": {},
     "output_type": "execute_result"
    }
   ],
   "source": [
    "# Check for duplicates and drop duplicate records\n",
    "\n",
    "# Drop the first column as it contains the rownumber, because of which dulictons will be ignored\n",
    "policy_data_wo_dup = policy_data#.drop('Unnamed: 0',axis=1)\n",
    "\n",
    "# Remove duplicates at Oerall Level\n",
    "policy_data_wo_dup.drop_duplicates()\n",
    "\n",
    "# Get the number of Records and Features in the New Data\n",
    "policy_data_wo_dup.shape"
   ]
  },
  {
   "cell_type": "code",
   "execution_count": 119,
   "metadata": {},
   "outputs": [
    {
     "name": "stdout",
     "output_type": "stream",
     "text": [
      "Features, number of non-null records, data type\n",
      "-----------------------------------------------------------------------------------\n",
      "<class 'pandas.core.frame.DataFrame'>\n",
      "RangeIndex: 232962 entries, 0 to 232961\n",
      "Data columns (total 67 columns):\n",
      "Source_System                       232962 non-null object\n",
      "Product                             232962 non-null object\n",
      "Underwriting_Year                   232962 non-null int64\n",
      "Effective_Date                      232962 non-null object\n",
      "Expiry_Date                         232962 non-null object\n",
      "Transaction_Type                    232962 non-null object\n",
      "Public_Liability_Limit              232962 non-null int64\n",
      "Employers_Liability_Limit           232962 non-null int64\n",
      "Tools_Sum_Insured                   232962 non-null float64\n",
      "Professional_Indemnity_Limit        232962 non-null int64\n",
      "Contract_Works_Sum_Insured          232962 non-null int64\n",
      "Hired_in_Plan_Sum_Insured           232962 non-null int64\n",
      "Own_Plant_Sum_Insured               232962 non-null int64\n",
      "Trade_1                             232962 non-null object\n",
      "Trade_2                             207790 non-null object\n",
      "Manual_EE                           232962 non-null int64\n",
      "Clerical_EE                         232962 non-null int64\n",
      "Subcontractor_EE                    232962 non-null int64\n",
      "Match_Type                          232962 non-null object\n",
      "Trade_1_Category                    232962 non-null object\n",
      "Trade_2_Category                    232962 non-null object\n",
      "Trade_1_Risk_Level                  232962 non-null int64\n",
      "Trade_2_Risk_Level                  232962 non-null int64\n",
      "Effective_Date2                     232962 non-null object\n",
      "CancellationEffectiveDate           0 non-null float64\n",
      "Total_Gross_Premium_excl_IPT        232962 non-null float64\n",
      "Commission_Amount                   232962 non-null float64\n",
      "Net_Premium_to_UW                   232962 non-null float64\n",
      "Policy_Count                        232962 non-null int64\n",
      "Gross_Premium_Excl_PI               232962 non-null float64\n",
      "Gross_PI_Premium                    197824 non-null float64\n",
      "DurationofPolicy                    232962 non-null int64\n",
      "CombinedTradeRiskLevel              232962 non-null int64\n",
      "Public_Liability_Limit_1000000      232962 non-null int64\n",
      "Public_Liability_Limit_1000000.1    232962 non-null int64\n",
      "Public_Liability_Limit_2000000      232962 non-null int64\n",
      "Public_Liability_Limit_5000000      232962 non-null int64\n",
      "Public_Liability_Limit_5000000.1    232962 non-null int64\n",
      "Public_Liability_Limit_1000000.2    232962 non-null int64\n",
      "Public_Liability_Limit_1000000.3    232962 non-null int64\n",
      "Employers_Liability_Limit_1000      232962 non-null int64\n",
      "Professional_Indemnity_Limit_5      232962 non-null int64\n",
      "Professional_Indemnity_Limit_5.1    232962 non-null int64\n",
      "Professional_Indemnity_Limit_1      232962 non-null int64\n",
      "Professional_Indemnity_Limit_1.1    232962 non-null int64\n",
      "Professional_Indemnity_Limit_2      232962 non-null int64\n",
      "Professional_Indemnity_Limit_2.1    232962 non-null int64\n",
      "Professional_Indemnity_Limit_5.2    232962 non-null int64\n",
      "Professional_Indemnity_Limit_5.3    232962 non-null int64\n",
      "Professional_Indemnity_Limit_1.2    232962 non-null int64\n",
      "Professional_Indemnity_Limit_1.3    232962 non-null int64\n",
      "Professional_Indemnity_Limit_2.2    232962 non-null int64\n",
      "Professional_Indemnity_Limit_2.3    232962 non-null int64\n",
      "Tools_Sum_Insured_Ind               232962 non-null int64\n",
      "Contract_Works_Sum_Insured_Ind      232962 non-null int64\n",
      "Hired_in_Plan_Sum_Insured_Ind       232962 non-null int64\n",
      "Own_Plant_Sum_Insured_Ind           232962 non-null int64\n",
      "Location                            232611 non-null object\n",
      "Public_Liability_Limit_5000000.2    232962 non-null int64\n",
      "Public_Liability_Limit_5000000.3    232962 non-null int64\n",
      "Professional_Indemnity_Limit_g      232962 non-null int64\n",
      "Risk_Postcode2                      232962 non-null object\n",
      "TotalEmployees                      232962 non-null int64\n",
      "Claim_Count                         232962 non-null int64\n",
      "Claim_Incurred                      232962 non-null float64\n",
      "Capped_Incurred_50k                 232962 non-null float64\n",
      "Capped_Incurred_100k                232962 non-null float64\n",
      "dtypes: float64(10), int64(44), object(13)\n",
      "memory usage: 119.1+ MB\n"
     ]
    }
   ],
   "source": [
    "# Understand the datatypes, fill rate for each feature in the input data\n",
    "\n",
    "print('Features, number of non-null records, data type')\n",
    "print('-----------------------------------------------------------------------------------')\n",
    "policy_data_wo_dup.info()"
   ]
  },
  {
   "cell_type": "markdown",
   "metadata": {},
   "source": [
    "**Data Inconsistencies and Resolution:**\n",
    "\n",
    "After going through the data, certain data inconsistencies are identified as follows:\n",
    "\n",
    "1. There are derived fields created by encoding the values of 'Public_Liability_Limit' field. The inconsistency is that,\n",
    "   there are multiple fields with same name However they contain different values for the same policy\n",
    "\n",
    "2. Similar issue is observed with 'Professional_Indemnity_Limit' field as well\n",
    "\n",
    "Suggested resolution is to drop these inconsistent fields before the data processing. \n",
    "\n",
    "Fresh encoding will be performed after data processing and before the modelling\n"
   ]
  },
  {
   "cell_type": "code",
   "execution_count": 8,
   "metadata": {},
   "outputs": [
    {
     "data": {
      "text/plain": [
       "Index(['Source_System', 'Product', 'Underwriting_Year', 'Effective_Date',\n",
       "       'Expiry_Date', 'Transaction_Type', 'Public_Liability_Limit',\n",
       "       'Employers_Liability_Limit', 'Tools_Sum_Insured',\n",
       "       'Professional_Indemnity_Limit', 'Contract_Works_Sum_Insured',\n",
       "       'Hired_in_Plan_Sum_Insured', 'Own_Plant_Sum_Insured', 'Trade_1',\n",
       "       'Trade_2', 'Manual_EE', 'Clerical_EE', 'Subcontractor_EE', 'Match_Type',\n",
       "       'Trade_1_Category', 'Trade_2_Category', 'Trade_1_Risk_Level',\n",
       "       'Trade_2_Risk_Level', 'Effective_Date2', 'CancellationEffectiveDate',\n",
       "       'Total_Gross_Premium_excl_IPT', 'Commission_Amount',\n",
       "       'Net_Premium_to_UW', 'Policy_Count', 'Gross_Premium_Excl_PI',\n",
       "       'Gross_PI_Premium', 'DurationofPolicy', 'CombinedTradeRiskLevel',\n",
       "       'Tools_Sum_Insured_Ind', 'Contract_Works_Sum_Insured_Ind',\n",
       "       'Hired_in_Plan_Sum_Insured_Ind', 'Own_Plant_Sum_Insured_Ind',\n",
       "       'Location', 'Professional_Indemnity_Limit_g', 'Risk_Postcode2',\n",
       "       'TotalEmployees', 'Claim_Count', 'Claim_Incurred',\n",
       "       'Capped_Incurred_(£50k)', 'Capped_Incurred_(£100k)'],\n",
       "      dtype='object')"
      ]
     },
     "execution_count": 8,
     "metadata": {},
     "output_type": "execute_result"
    }
   ],
   "source": [
    "# Drop the redundant features\n",
    "\n",
    "policy_data_wo_dup_1 = policy_data_wo_dup.drop( ['Public_Liability_Limit_1000000',\n",
    "                   'Public_Liability_Limit_1000000.1',\n",
    "                   'Public_Liability_Limit_2000000',\n",
    "                   'Public_Liability_Limit_5000000',\n",
    "                    'Public_Liability_Limit_5000000.1',\n",
    "                    'Public_Liability_Limit_1000000.2',\n",
    "                    'Public_Liability_Limit_1000000.3',\n",
    "                    'Employers_Liability_Limit_1000',\n",
    "                    'Professional_Indemnity_Limit_5',\n",
    "                    'Professional_Indemnity_Limit_5.1',\n",
    "                    'Professional_Indemnity_Limit_1',\n",
    "                    'Professional_Indemnity_Limit_1.1',\n",
    "                    'Professional_Indemnity_Limit_2',\n",
    "                    'Professional_Indemnity_Limit_2.1',\n",
    "                    'Professional_Indemnity_Limit_5.2',\n",
    "                    'Professional_Indemnity_Limit_5.3',\n",
    "                    'Professional_Indemnity_Limit_1.2',\n",
    "                    'Professional_Indemnity_Limit_1.3',\n",
    "                    'Professional_Indemnity_Limit_2.2',\n",
    "                    'Professional_Indemnity_Limit_2.3',\n",
    "                    'Public_Liability_Limit_5000000.2',\n",
    "                    'Public_Liability_Limit_5000000.3' \n",
    "                  ], axis = 1)\n",
    "\n",
    "policy_data_wo_dup_1.columns"
   ]
  },
  {
   "cell_type": "code",
   "execution_count": 9,
   "metadata": {},
   "outputs": [
    {
     "data": {
      "text/plain": [
       "(232716, 45)"
      ]
     },
     "execution_count": 9,
     "metadata": {},
     "output_type": "execute_result"
    }
   ],
   "source": [
    "# Check and Remove Duplicate Records\n",
    "\n",
    "policy_data_wo_dup_2 = policy_data_wo_dup_1.drop_duplicates()\n",
    "\n",
    "policy_data_wo_dup_2.shape"
   ]
  },
  {
   "cell_type": "markdown",
   "metadata": {},
   "source": [
    "After removing the duplicate Features and Records, identify the number of Claims dropped"
   ]
  },
  {
   "cell_type": "code",
   "execution_count": 10,
   "metadata": {},
   "outputs": [
    {
     "data": {
      "text/plain": [
       "0    229689\n",
       "1      3098\n",
       "2       150\n",
       "3        22\n",
       "4         3\n",
       "Name: Claim_Count, dtype: int64"
      ]
     },
     "execution_count": 10,
     "metadata": {},
     "output_type": "execute_result"
    }
   ],
   "source": [
    "policy_data_wo_dup.Claim_Count.value_counts()"
   ]
  },
  {
   "cell_type": "code",
   "execution_count": 11,
   "metadata": {},
   "outputs": [
    {
     "data": {
      "text/plain": [
       "0    229444\n",
       "1      3097\n",
       "2       150\n",
       "3        22\n",
       "4         3\n",
       "Name: Claim_Count, dtype: int64"
      ]
     },
     "execution_count": 11,
     "metadata": {},
     "output_type": "execute_result"
    }
   ],
   "source": [
    "policy_data_wo_dup_2.Claim_Count.value_counts()"
   ]
  },
  {
   "cell_type": "markdown",
   "metadata": {},
   "source": [
    "** Record for 1 Claim is dropped after removing redundant features and records **"
   ]
  },
  {
   "cell_type": "code",
   "execution_count": 12,
   "metadata": {},
   "outputs": [
    {
     "name": "stdout",
     "output_type": "stream",
     "text": [
      "Source_System                          0\n",
      "Product                                0\n",
      "Underwriting_Year                      0\n",
      "Effective_Date                         0\n",
      "Expiry_Date                            0\n",
      "Transaction_Type                       0\n",
      "Public_Liability_Limit                 0\n",
      "Employers_Liability_Limit              0\n",
      "Tools_Sum_Insured                      0\n",
      "Professional_Indemnity_Limit           0\n",
      "Contract_Works_Sum_Insured             0\n",
      "Hired_in_Plan_Sum_Insured              0\n",
      "Own_Plant_Sum_Insured                  0\n",
      "Trade_1                                0\n",
      "Trade_2                            25133\n",
      "Manual_EE                              0\n",
      "Clerical_EE                            0\n",
      "Subcontractor_EE                       0\n",
      "Match_Type                             0\n",
      "Trade_1_Category                       0\n",
      "Trade_2_Category                       0\n",
      "Trade_1_Risk_Level                     0\n",
      "Trade_2_Risk_Level                     0\n",
      "Effective_Date2                        0\n",
      "CancellationEffectiveDate         232716\n",
      "Total_Gross_Premium_excl_IPT           0\n",
      "Commission_Amount                      0\n",
      "Net_Premium_to_UW                      0\n",
      "Policy_Count                           0\n",
      "Gross_Premium_Excl_PI                  0\n",
      "Gross_PI_Premium                   35093\n",
      "DurationofPolicy                       0\n",
      "CombinedTradeRiskLevel                 0\n",
      "Tools_Sum_Insured_Ind                  0\n",
      "Contract_Works_Sum_Insured_Ind         0\n",
      "Hired_in_Plan_Sum_Insured_Ind          0\n",
      "Own_Plant_Sum_Insured_Ind              0\n",
      "Location                             351\n",
      "Professional_Indemnity_Limit_g         0\n",
      "Risk_Postcode2                         0\n",
      "TotalEmployees                         0\n",
      "Claim_Count                            0\n",
      "Claim_Incurred                         0\n",
      "Capped_Incurred_(£50k)                 0\n",
      "Capped_Incurred_(£100k)                0\n",
      "dtype: int64\n"
     ]
    }
   ],
   "source": [
    "# Check for number of missing records in each feature\n",
    "\n",
    "print(policy_data_wo_dup_2.isnull().sum())"
   ]
  },
  {
   "cell_type": "markdown",
   "metadata": {},
   "source": [
    " **Value for CancellationEffectiveDate for all records is NULL - DROP THE FIELD**\n",
    "\n",
    " **11% of Trade2, 0.2% of Location have NULL values**\n",
    "\n",
    " **For all other fields, the fill rate is 100%**"
   ]
  },
  {
   "cell_type": "code",
   "execution_count": 13,
   "metadata": {},
   "outputs": [
    {
     "data": {
      "text/plain": [
       "(232716, 44)"
      ]
     },
     "execution_count": 13,
     "metadata": {},
     "output_type": "execute_result"
    }
   ],
   "source": [
    "# Drop the irrelevant Fields - CancellationEffectiveDate\n",
    "\n",
    "policy_data_2 = policy_data_wo_dup_2.drop(['CancellationEffectiveDate'], axis=1)\n",
    "\n",
    "# Check whether the field is dropped\n",
    "\n",
    "policy_data_2.head()\n",
    "\n",
    "policy_data_2.shape"
   ]
  },
  {
   "cell_type": "code",
   "execution_count": 14,
   "metadata": {},
   "outputs": [
    {
     "data": {
      "text/html": [
       "<div>\n",
       "<style>\n",
       "    .dataframe thead tr:only-child th {\n",
       "        text-align: right;\n",
       "    }\n",
       "\n",
       "    .dataframe thead th {\n",
       "        text-align: left;\n",
       "    }\n",
       "\n",
       "    .dataframe tbody tr th {\n",
       "        vertical-align: top;\n",
       "    }\n",
       "</style>\n",
       "<table border=\"1\" class=\"dataframe\">\n",
       "  <thead>\n",
       "    <tr style=\"text-align: right;\">\n",
       "      <th></th>\n",
       "      <th>Underwriting_Year</th>\n",
       "      <th>Public_Liability_Limit</th>\n",
       "      <th>Employers_Liability_Limit</th>\n",
       "      <th>Tools_Sum_Insured</th>\n",
       "      <th>Professional_Indemnity_Limit</th>\n",
       "      <th>Contract_Works_Sum_Insured</th>\n",
       "      <th>Hired_in_Plan_Sum_Insured</th>\n",
       "      <th>Own_Plant_Sum_Insured</th>\n",
       "      <th>Manual_EE</th>\n",
       "      <th>Clerical_EE</th>\n",
       "      <th>...</th>\n",
       "      <th>Tools_Sum_Insured_Ind</th>\n",
       "      <th>Contract_Works_Sum_Insured_Ind</th>\n",
       "      <th>Hired_in_Plan_Sum_Insured_Ind</th>\n",
       "      <th>Own_Plant_Sum_Insured_Ind</th>\n",
       "      <th>Professional_Indemnity_Limit_g</th>\n",
       "      <th>TotalEmployees</th>\n",
       "      <th>Claim_Count</th>\n",
       "      <th>Claim_Incurred</th>\n",
       "      <th>Capped_Incurred_(£50k)</th>\n",
       "      <th>Capped_Incurred_(£100k)</th>\n",
       "    </tr>\n",
       "  </thead>\n",
       "  <tbody>\n",
       "    <tr>\n",
       "      <th>count</th>\n",
       "      <td>232716.000000</td>\n",
       "      <td>2.327160e+05</td>\n",
       "      <td>2.327160e+05</td>\n",
       "      <td>232716.000000</td>\n",
       "      <td>2.327160e+05</td>\n",
       "      <td>232716.000000</td>\n",
       "      <td>232716.000000</td>\n",
       "      <td>232716.000000</td>\n",
       "      <td>232716.000000</td>\n",
       "      <td>232716.000000</td>\n",
       "      <td>...</td>\n",
       "      <td>232716.000000</td>\n",
       "      <td>232716.000000</td>\n",
       "      <td>232716.000000</td>\n",
       "      <td>232716.000000</td>\n",
       "      <td>232716.000000</td>\n",
       "      <td>232716.000000</td>\n",
       "      <td>232716.000000</td>\n",
       "      <td>2.327160e+05</td>\n",
       "      <td>232716.000000</td>\n",
       "      <td>232716.000000</td>\n",
       "    </tr>\n",
       "    <tr>\n",
       "      <th>mean</th>\n",
       "      <td>2013.350290</td>\n",
       "      <td>2.484234e+06</td>\n",
       "      <td>2.796542e+06</td>\n",
       "      <td>358.221034</td>\n",
       "      <td>1.738288e+05</td>\n",
       "      <td>3645.236829</td>\n",
       "      <td>809.280728</td>\n",
       "      <td>242.414441</td>\n",
       "      <td>1.147575</td>\n",
       "      <td>1.175381</td>\n",
       "      <td>...</td>\n",
       "      <td>0.124976</td>\n",
       "      <td>0.023518</td>\n",
       "      <td>0.018155</td>\n",
       "      <td>0.016733</td>\n",
       "      <td>0.250413</td>\n",
       "      <td>2.623275</td>\n",
       "      <td>0.014932</td>\n",
       "      <td>1.143787e+02</td>\n",
       "      <td>60.540041</td>\n",
       "      <td>72.653516</td>\n",
       "    </tr>\n",
       "    <tr>\n",
       "      <th>std</th>\n",
       "      <td>0.793234</td>\n",
       "      <td>2.028191e+06</td>\n",
       "      <td>4.488302e+06</td>\n",
       "      <td>1209.842269</td>\n",
       "      <td>4.244325e+05</td>\n",
       "      <td>32280.437320</td>\n",
       "      <td>7056.852380</td>\n",
       "      <td>3216.453695</td>\n",
       "      <td>1.321838</td>\n",
       "      <td>2.451347</td>\n",
       "      <td>...</td>\n",
       "      <td>0.330693</td>\n",
       "      <td>0.151542</td>\n",
       "      <td>0.133513</td>\n",
       "      <td>0.128269</td>\n",
       "      <td>0.433252</td>\n",
       "      <td>3.014710</td>\n",
       "      <td>0.129308</td>\n",
       "      <td>7.545288e+03</td>\n",
       "      <td>1266.728890</td>\n",
       "      <td>1844.400789</td>\n",
       "    </tr>\n",
       "    <tr>\n",
       "      <th>min</th>\n",
       "      <td>2010.000000</td>\n",
       "      <td>1.000000e+06</td>\n",
       "      <td>0.000000e+00</td>\n",
       "      <td>0.000000</td>\n",
       "      <td>0.000000e+00</td>\n",
       "      <td>0.000000</td>\n",
       "      <td>0.000000</td>\n",
       "      <td>0.000000</td>\n",
       "      <td>0.000000</td>\n",
       "      <td>0.000000</td>\n",
       "      <td>...</td>\n",
       "      <td>0.000000</td>\n",
       "      <td>0.000000</td>\n",
       "      <td>0.000000</td>\n",
       "      <td>0.000000</td>\n",
       "      <td>0.000000</td>\n",
       "      <td>0.000000</td>\n",
       "      <td>0.000000</td>\n",
       "      <td>0.000000e+00</td>\n",
       "      <td>0.000000</td>\n",
       "      <td>0.000000</td>\n",
       "    </tr>\n",
       "    <tr>\n",
       "      <th>25%</th>\n",
       "      <td>2013.000000</td>\n",
       "      <td>1.000000e+06</td>\n",
       "      <td>0.000000e+00</td>\n",
       "      <td>0.000000</td>\n",
       "      <td>0.000000e+00</td>\n",
       "      <td>0.000000</td>\n",
       "      <td>0.000000</td>\n",
       "      <td>0.000000</td>\n",
       "      <td>1.000000</td>\n",
       "      <td>0.000000</td>\n",
       "      <td>...</td>\n",
       "      <td>0.000000</td>\n",
       "      <td>0.000000</td>\n",
       "      <td>0.000000</td>\n",
       "      <td>0.000000</td>\n",
       "      <td>0.000000</td>\n",
       "      <td>1.000000</td>\n",
       "      <td>0.000000</td>\n",
       "      <td>0.000000e+00</td>\n",
       "      <td>0.000000</td>\n",
       "      <td>0.000000</td>\n",
       "    </tr>\n",
       "    <tr>\n",
       "      <th>50%</th>\n",
       "      <td>2013.000000</td>\n",
       "      <td>2.000000e+06</td>\n",
       "      <td>0.000000e+00</td>\n",
       "      <td>0.000000</td>\n",
       "      <td>0.000000e+00</td>\n",
       "      <td>0.000000</td>\n",
       "      <td>0.000000</td>\n",
       "      <td>0.000000</td>\n",
       "      <td>1.000000</td>\n",
       "      <td>0.000000</td>\n",
       "      <td>...</td>\n",
       "      <td>0.000000</td>\n",
       "      <td>0.000000</td>\n",
       "      <td>0.000000</td>\n",
       "      <td>0.000000</td>\n",
       "      <td>0.000000</td>\n",
       "      <td>1.000000</td>\n",
       "      <td>0.000000</td>\n",
       "      <td>0.000000e+00</td>\n",
       "      <td>0.000000</td>\n",
       "      <td>0.000000</td>\n",
       "    </tr>\n",
       "    <tr>\n",
       "      <th>75%</th>\n",
       "      <td>2014.000000</td>\n",
       "      <td>5.000000e+06</td>\n",
       "      <td>1.000000e+07</td>\n",
       "      <td>0.000000</td>\n",
       "      <td>5.000000e+04</td>\n",
       "      <td>0.000000</td>\n",
       "      <td>0.000000</td>\n",
       "      <td>0.000000</td>\n",
       "      <td>1.000000</td>\n",
       "      <td>0.000000</td>\n",
       "      <td>...</td>\n",
       "      <td>0.000000</td>\n",
       "      <td>0.000000</td>\n",
       "      <td>0.000000</td>\n",
       "      <td>0.000000</td>\n",
       "      <td>1.000000</td>\n",
       "      <td>4.000000</td>\n",
       "      <td>0.000000</td>\n",
       "      <td>0.000000e+00</td>\n",
       "      <td>0.000000</td>\n",
       "      <td>0.000000</td>\n",
       "    </tr>\n",
       "    <tr>\n",
       "      <th>max</th>\n",
       "      <td>2014.000000</td>\n",
       "      <td>1.000000e+07</td>\n",
       "      <td>1.000000e+07</td>\n",
       "      <td>30000.000000</td>\n",
       "      <td>2.000000e+06</td>\n",
       "      <td>1000000.000000</td>\n",
       "      <td>250000.000000</td>\n",
       "      <td>500000.000000</td>\n",
       "      <td>42.000000</td>\n",
       "      <td>27.000000</td>\n",
       "      <td>...</td>\n",
       "      <td>1.000000</td>\n",
       "      <td>1.000000</td>\n",
       "      <td>1.000000</td>\n",
       "      <td>1.000000</td>\n",
       "      <td>1.000000</td>\n",
       "      <td>47.000000</td>\n",
       "      <td>4.000000</td>\n",
       "      <td>2.250778e+06</td>\n",
       "      <td>79854.500000</td>\n",
       "      <td>129854.500000</td>\n",
       "    </tr>\n",
       "  </tbody>\n",
       "</table>\n",
       "<p>8 rows × 31 columns</p>\n",
       "</div>"
      ],
      "text/plain": [
       "       Underwriting_Year  Public_Liability_Limit  Employers_Liability_Limit  \\\n",
       "count      232716.000000            2.327160e+05               2.327160e+05   \n",
       "mean         2013.350290            2.484234e+06               2.796542e+06   \n",
       "std             0.793234            2.028191e+06               4.488302e+06   \n",
       "min          2010.000000            1.000000e+06               0.000000e+00   \n",
       "25%          2013.000000            1.000000e+06               0.000000e+00   \n",
       "50%          2013.000000            2.000000e+06               0.000000e+00   \n",
       "75%          2014.000000            5.000000e+06               1.000000e+07   \n",
       "max          2014.000000            1.000000e+07               1.000000e+07   \n",
       "\n",
       "       Tools_Sum_Insured  Professional_Indemnity_Limit  \\\n",
       "count      232716.000000                  2.327160e+05   \n",
       "mean          358.221034                  1.738288e+05   \n",
       "std          1209.842269                  4.244325e+05   \n",
       "min             0.000000                  0.000000e+00   \n",
       "25%             0.000000                  0.000000e+00   \n",
       "50%             0.000000                  0.000000e+00   \n",
       "75%             0.000000                  5.000000e+04   \n",
       "max         30000.000000                  2.000000e+06   \n",
       "\n",
       "       Contract_Works_Sum_Insured  Hired_in_Plan_Sum_Insured  \\\n",
       "count               232716.000000              232716.000000   \n",
       "mean                  3645.236829                 809.280728   \n",
       "std                  32280.437320                7056.852380   \n",
       "min                      0.000000                   0.000000   \n",
       "25%                      0.000000                   0.000000   \n",
       "50%                      0.000000                   0.000000   \n",
       "75%                      0.000000                   0.000000   \n",
       "max                1000000.000000              250000.000000   \n",
       "\n",
       "       Own_Plant_Sum_Insured      Manual_EE    Clerical_EE  \\\n",
       "count          232716.000000  232716.000000  232716.000000   \n",
       "mean              242.414441       1.147575       1.175381   \n",
       "std              3216.453695       1.321838       2.451347   \n",
       "min                 0.000000       0.000000       0.000000   \n",
       "25%                 0.000000       1.000000       0.000000   \n",
       "50%                 0.000000       1.000000       0.000000   \n",
       "75%                 0.000000       1.000000       0.000000   \n",
       "max            500000.000000      42.000000      27.000000   \n",
       "\n",
       "                ...             Tools_Sum_Insured_Ind  \\\n",
       "count           ...                     232716.000000   \n",
       "mean            ...                          0.124976   \n",
       "std             ...                          0.330693   \n",
       "min             ...                          0.000000   \n",
       "25%             ...                          0.000000   \n",
       "50%             ...                          0.000000   \n",
       "75%             ...                          0.000000   \n",
       "max             ...                          1.000000   \n",
       "\n",
       "       Contract_Works_Sum_Insured_Ind  Hired_in_Plan_Sum_Insured_Ind  \\\n",
       "count                   232716.000000                  232716.000000   \n",
       "mean                         0.023518                       0.018155   \n",
       "std                          0.151542                       0.133513   \n",
       "min                          0.000000                       0.000000   \n",
       "25%                          0.000000                       0.000000   \n",
       "50%                          0.000000                       0.000000   \n",
       "75%                          0.000000                       0.000000   \n",
       "max                          1.000000                       1.000000   \n",
       "\n",
       "       Own_Plant_Sum_Insured_Ind  Professional_Indemnity_Limit_g  \\\n",
       "count              232716.000000                   232716.000000   \n",
       "mean                    0.016733                        0.250413   \n",
       "std                     0.128269                        0.433252   \n",
       "min                     0.000000                        0.000000   \n",
       "25%                     0.000000                        0.000000   \n",
       "50%                     0.000000                        0.000000   \n",
       "75%                     0.000000                        1.000000   \n",
       "max                     1.000000                        1.000000   \n",
       "\n",
       "       TotalEmployees    Claim_Count  Claim_Incurred  Capped_Incurred_(£50k)  \\\n",
       "count   232716.000000  232716.000000    2.327160e+05           232716.000000   \n",
       "mean         2.623275       0.014932    1.143787e+02               60.540041   \n",
       "std          3.014710       0.129308    7.545288e+03             1266.728890   \n",
       "min          0.000000       0.000000    0.000000e+00                0.000000   \n",
       "25%          1.000000       0.000000    0.000000e+00                0.000000   \n",
       "50%          1.000000       0.000000    0.000000e+00                0.000000   \n",
       "75%          4.000000       0.000000    0.000000e+00                0.000000   \n",
       "max         47.000000       4.000000    2.250778e+06            79854.500000   \n",
       "\n",
       "       Capped_Incurred_(£100k)  \n",
       "count            232716.000000  \n",
       "mean                 72.653516  \n",
       "std                1844.400789  \n",
       "min                   0.000000  \n",
       "25%                   0.000000  \n",
       "50%                   0.000000  \n",
       "75%                   0.000000  \n",
       "max              129854.500000  \n",
       "\n",
       "[8 rows x 31 columns]"
      ]
     },
     "execution_count": 14,
     "metadata": {},
     "output_type": "execute_result"
    }
   ],
   "source": [
    "# Understand the Basic Statistics for each feature in the data\n",
    "\n",
    "policy_data_2.describe()"
   ]
  },
  {
   "cell_type": "markdown",
   "metadata": {},
   "source": [
    "### Exploratory Data Analysis Begins\n",
    "\n",
    "* Unerstand the distrbuion of polcies across claim volumes"
   ]
  },
  {
   "cell_type": "code",
   "execution_count": 16,
   "metadata": {},
   "outputs": [
    {
     "data": {
      "text/plain": [
       "0    229444\n",
       "1      3097\n",
       "2       150\n",
       "3        22\n",
       "4         3\n",
       "Name: Claim_Count, dtype: int64"
      ]
     },
     "execution_count": 16,
     "metadata": {},
     "output_type": "execute_result"
    }
   ],
   "source": [
    "# Check the distribution of claims\n",
    "\n",
    "policy_data_2.Claim_Count.value_counts()"
   ]
  },
  {
   "cell_type": "markdown",
   "metadata": {},
   "source": [
    " 98.6% policies don't have any claims associated with them\n",
    "\n",
    " 1.4% policies ony have associated claims"
   ]
  },
  {
   "cell_type": "code",
   "execution_count": 17,
   "metadata": {},
   "outputs": [
    {
     "data": {
      "text/html": [
       "<div>\n",
       "<style>\n",
       "    .dataframe thead tr:only-child th {\n",
       "        text-align: right;\n",
       "    }\n",
       "\n",
       "    .dataframe thead th {\n",
       "        text-align: left;\n",
       "    }\n",
       "\n",
       "    .dataframe tbody tr th {\n",
       "        vertical-align: top;\n",
       "    }\n",
       "</style>\n",
       "<table border=\"1\" class=\"dataframe\">\n",
       "  <thead>\n",
       "    <tr style=\"text-align: right;\">\n",
       "      <th></th>\n",
       "      <th>Claim_Incurred</th>\n",
       "    </tr>\n",
       "    <tr>\n",
       "      <th>Claim_Count</th>\n",
       "      <th></th>\n",
       "    </tr>\n",
       "  </thead>\n",
       "  <tbody>\n",
       "    <tr>\n",
       "      <th>0</th>\n",
       "      <td>0.00</td>\n",
       "    </tr>\n",
       "    <tr>\n",
       "      <th>1</th>\n",
       "      <td>21437030.98</td>\n",
       "    </tr>\n",
       "    <tr>\n",
       "      <th>2</th>\n",
       "      <td>3872560.03</td>\n",
       "    </tr>\n",
       "    <tr>\n",
       "      <th>3</th>\n",
       "      <td>1300751.79</td>\n",
       "    </tr>\n",
       "    <tr>\n",
       "      <th>4</th>\n",
       "      <td>7406.60</td>\n",
       "    </tr>\n",
       "  </tbody>\n",
       "</table>\n",
       "</div>"
      ],
      "text/plain": [
       "             Claim_Incurred\n",
       "Claim_Count                \n",
       "0                      0.00\n",
       "1               21437030.98\n",
       "2                3872560.03\n",
       "3                1300751.79\n",
       "4                   7406.60"
      ]
     },
     "execution_count": 17,
     "metadata": {},
     "output_type": "execute_result"
    }
   ],
   "source": [
    "# Understand the Claim Incurred Cost Distribution\n",
    "\n",
    "policy_data_2.groupby(['Claim_Count'])[['Claim_Incurred']].sum()"
   ]
  },
  {
   "cell_type": "markdown",
   "metadata": {},
   "source": [
    "Understand the Year on Year Trend for Policy Count, GWP, Claim Count and Incurred Cost"
   ]
  },
  {
   "cell_type": "code",
   "execution_count": 18,
   "metadata": {
    "collapsed": true
   },
   "outputs": [],
   "source": [
    "agg_year = pd.DataFrame(policy_data_2.groupby(['Underwriting_Year'])[['Policy_Count']].sum())\n",
    "agg_year['Claim_Count'] = pd.DataFrame(policy_data_2.groupby(['Underwriting_Year'])[['Claim_Count']].sum())\n",
    "agg_year['Prem'] = pd.DataFrame(policy_data_2.groupby(['Underwriting_Year'])[['Gross_Premium_Excl_PI']].sum())\n",
    "agg_year['Claim_Incurred'] = pd.DataFrame(policy_data_2.groupby(['Underwriting_Year'])[['Claim_Incurred']].sum())"
   ]
  },
  {
   "cell_type": "code",
   "execution_count": 19,
   "metadata": {},
   "outputs": [
    {
     "data": {
      "text/plain": [
       "<seaborn.axisgrid.FacetGrid at 0x5283246a90>"
      ]
     },
     "execution_count": 19,
     "metadata": {},
     "output_type": "execute_result"
    },
    {
     "data": {
      "image/png": "[encoded data removed]",
      "text/plain": [
       "<matplotlib.figure.Figure at 0x5283567e10>"
      ]
     },
     "metadata": {},
     "output_type": "display_data"
    },
    {
     "data": {
      "image/png": "[encoded data removed]",
      "text/plain": [
       "<matplotlib.figure.Figure at 0x5283567b38>"
      ]
     },
     "metadata": {},
     "output_type": "display_data"
    },
    {
     "data": {
      "image/png": "[encoded data removed]",
      "text/plain": [
       "<matplotlib.figure.Figure at 0x5283287400>"
      ]
     },
     "metadata": {},
     "output_type": "display_data"
    },
    {
     "data": {
      "image/png": "[encoded data removed]",
      "text/plain": [
       "<matplotlib.figure.Figure at 0x5283593ac8>"
      ]
     },
     "metadata": {},
     "output_type": "display_data"
    }
   ],
   "source": [
    "agg_year['Underwriting_Year'] = agg_year.index\n",
    "\n",
    "sns.factorplot('Underwriting_Year','Policy_Count', \n",
    "               data=agg_year,\n",
    "               gsize=4,aspect=3, \n",
    "               legend=True, \n",
    "               legend_out=True,\n",
    "               alpha=0.7, size=4)\n",
    "\n",
    "sns.factorplot('Underwriting_Year','Prem', \n",
    "               data=agg_year,\n",
    "               gsize=4,aspect=3, \n",
    "               legend=True, \n",
    "               legend_out=True,\n",
    "               alpha=0.7, size=4)\n",
    "\n",
    "sns.factorplot('Underwriting_Year','Claim_Count', \n",
    "               data=agg_year,\n",
    "               gsize=4,aspect=3, \n",
    "               legend=True, \n",
    "               legend_out=True,\n",
    "               alpha=0.7, size=4)\n",
    "\n",
    "sns.factorplot('Underwriting_Year','Claim_Incurred', \n",
    "               data=agg_year,\n",
    "               gsize=4,aspect=3, \n",
    "               legend=True, \n",
    "               legend_out=True,\n",
    "               alpha=0.7, size=4)"
   ]
  },
  {
   "cell_type": "markdown",
   "metadata": {},
   "source": [
    "** Inference from the Trend Analysis:  **\n",
    "    \n",
    "    1. There is an increasing trend of business both in terms of Volume and Premium\n",
    "    2. There is an unusual spike in 2013 compared to 2012\n",
    "    3. Even though the number of Claims received in 2011 and 2014 ae more than their respective previous years,\n",
    "       there is a drop for Claim Incurred Cost for both these years"
   ]
  },
  {
   "cell_type": "markdown",
   "metadata": {},
   "source": [
    "** Understand the distribuions of Policy Count, GWP, Claim Count and Incurred Cost across different products**"
   ]
  },
  {
   "cell_type": "code",
   "execution_count": 20,
   "metadata": {
    "collapsed": true
   },
   "outputs": [],
   "source": [
    "agg_prod = pd.DataFrame(policy_data_2.groupby(['Product'])[['Policy_Count']].sum())\n",
    "agg_prod['Claim_Count'] = pd.DataFrame(policy_data_2.groupby(['Product'])[['Claim_Count']].sum())\n",
    "agg_prod['Prem'] = pd.DataFrame(policy_data_2.groupby(['Product'])[['Gross_Premium_Excl_PI']].sum())\n",
    "agg_prod['Claim_Incurred'] = pd.DataFrame(policy_data_2.groupby(['Product'])[['Claim_Incurred']].sum())"
   ]
  },
  {
   "cell_type": "code",
   "execution_count": 167,
   "metadata": {},
   "outputs": [
    {
     "data": {
      "text/plain": [
       "<matplotlib.axes._subplots.AxesSubplot at 0x42b63128>"
      ]
     },
     "execution_count": 167,
     "metadata": {},
     "output_type": "execute_result"
    },
    {
     "data": {
      "image/png": "[encoded data removed]",
      "text/plain": [
       "<matplotlib.figure.Figure at 0x42b43fd0>"
      ]
     },
     "metadata": {},
     "output_type": "display_data"
    }
   ],
   "source": [
    "agg_prod['Product'] = agg_prod.index\n",
    "\n",
    "a4_dims = (15, 5)\n",
    "fig, ax = plt.subplots(figsize=a4_dims)\n",
    "sns.barplot(ax= ax, x='Product', y='Policy_Count',palette= 'pastel', \n",
    "             data=agg_prod)"
   ]
  },
  {
   "cell_type": "code",
   "execution_count": 95,
   "metadata": {},
   "outputs": [
    {
     "data": {
      "text/plain": [
       "<matplotlib.axes._subplots.AxesSubplot at 0x2b4390f0>"
      ]
     },
     "execution_count": 95,
     "metadata": {},
     "output_type": "execute_result"
    },
    {
     "data": {
      "image/png": "[encoded data removed]",
      "text/plain": [
       "<matplotlib.figure.Figure at 0x2b3e5048>"
      ]
     },
     "metadata": {},
     "output_type": "display_data"
    }
   ],
   "source": [
    "agg_prod['Product'] = agg_prod.index\n",
    "\n",
    "a4_dims = (15, 5)\n",
    "fig, ax = plt.subplots(figsize=a4_dims)\n",
    "sns.barplot(ax= ax, x='Product', y='Prem',palette= 'pastel', \n",
    "             data=agg_prod)"
   ]
  },
  {
   "cell_type": "code",
   "execution_count": 168,
   "metadata": {},
   "outputs": [
    {
     "data": {
      "text/plain": [
       "<matplotlib.axes._subplots.AxesSubplot at 0x3142c2e8>"
      ]
     },
     "execution_count": 168,
     "metadata": {},
     "output_type": "execute_result"
    },
    {
     "data": {
      "image/png": "[encoded data removed]",
      "text/plain": [
       "<matplotlib.figure.Figure at 0x30966630>"
      ]
     },
     "metadata": {},
     "output_type": "display_data"
    }
   ],
   "source": [
    "agg_prod['Product'] = agg_prod.index\n",
    "\n",
    "a4_dims = (15, 5)\n",
    "fig, ax = plt.subplots(figsize=a4_dims)\n",
    "sns.barplot(ax= ax, x='Product', y='Claim_Count',palette= 'pastel', \n",
    "             data=agg_prod)"
   ]
  },
  {
   "cell_type": "code",
   "execution_count": 97,
   "metadata": {},
   "outputs": [
    {
     "data": {
      "text/plain": [
       "<matplotlib.axes._subplots.AxesSubplot at 0x2bdaada0>"
      ]
     },
     "execution_count": 97,
     "metadata": {},
     "output_type": "execute_result"
    },
    {
     "data": {
      "image/png": "[encoded data removed]",
      "text/plain": [
       "<matplotlib.figure.Figure at 0x2bdcb2e8>"
      ]
     },
     "metadata": {},
     "output_type": "display_data"
    }
   ],
   "source": [
    "agg_prod['Product'] = agg_prod.index\n",
    "\n",
    "a4_dims = (15, 5)\n",
    "fig, ax = plt.subplots(figsize=a4_dims)\n",
    "sns.barplot(ax= ax, x='Product', y='Claim_Incurred',palette= 'pastel', \n",
    "             data=agg_prod)"
   ]
  },
  {
   "cell_type": "markdown",
   "metadata": {},
   "source": [
    "** Understand the distribuions of Policy Count, GWP, Claim Count and Incurred Cost across different Transaction Types **"
   ]
  },
  {
   "cell_type": "code",
   "execution_count": 170,
   "metadata": {
    "collapsed": true
   },
   "outputs": [],
   "source": [
    "agg_ttyp = pd.DataFrame(policy_data_2.groupby(['Transaction_Type'])[['Policy_Count']].sum())\n",
    "agg_ttyp['Claim_Count'] = pd.DataFrame(policy_data_2.groupby(['Transaction_Type'])[['Claim_Count']].sum())\n",
    "agg_ttyp['Prem'] = pd.DataFrame(policy_data_2.groupby(['Transaction_Type'])[['Gross_Premium_Excl_PI']].sum())\n",
    "agg_ttyp['Claim_Incurred'] = pd.DataFrame(policy_data_2.groupby(['Transaction_Type'])[['Claim_Incurred']].sum())"
   ]
  },
  {
   "cell_type": "code",
   "execution_count": 171,
   "metadata": {},
   "outputs": [
    {
     "data": {
      "text/plain": [
       "<matplotlib.axes._subplots.AxesSubplot at 0x3149a208>"
      ]
     },
     "execution_count": 171,
     "metadata": {},
     "output_type": "execute_result"
    },
    {
     "data": {
      "image/png": "[encoded data removed]",
      "text/plain": [
       "<matplotlib.figure.Figure at 0x313f6c88>"
      ]
     },
     "metadata": {},
     "output_type": "display_data"
    }
   ],
   "source": [
    "agg_ttyp['Transaction_Type'] = agg_ttyp.index\n",
    "\n",
    "sns.barplot(x='Transaction_Type', y='Policy_Count', \n",
    "             data=agg_ttyp)"
   ]
  },
  {
   "cell_type": "code",
   "execution_count": 172,
   "metadata": {},
   "outputs": [
    {
     "data": {
      "text/plain": [
       "<matplotlib.axes._subplots.AxesSubplot at 0x423485c0>"
      ]
     },
     "execution_count": 172,
     "metadata": {},
     "output_type": "execute_result"
    },
    {
     "data": {
      "image/png": "[encoded data removed]",
      "text/plain": [
       "<matplotlib.figure.Figure at 0x423e1cf8>"
      ]
     },
     "metadata": {},
     "output_type": "display_data"
    }
   ],
   "source": [
    "sns.barplot(x='Transaction_Type', y='Prem', \n",
    "             data=agg_ttyp)"
   ]
  },
  {
   "cell_type": "code",
   "execution_count": 173,
   "metadata": {},
   "outputs": [
    {
     "data": {
      "text/plain": [
       "<matplotlib.axes._subplots.AxesSubplot at 0x423e1ef0>"
      ]
     },
     "execution_count": 173,
     "metadata": {},
     "output_type": "execute_result"
    },
    {
     "data": {
      "image/png": "[encoded data removed]",
      "text/plain": [
       "<matplotlib.figure.Figure at 0x4242b7b8>"
      ]
     },
     "metadata": {},
     "output_type": "display_data"
    }
   ],
   "source": [
    "sns.barplot(x='Transaction_Type', y='Claim_Count', \n",
    "             data=agg_ttyp)"
   ]
  },
  {
   "cell_type": "code",
   "execution_count": 174,
   "metadata": {},
   "outputs": [
    {
     "data": {
      "text/plain": [
       "<matplotlib.axes._subplots.AxesSubplot at 0x42467748>"
      ]
     },
     "execution_count": 174,
     "metadata": {},
     "output_type": "execute_result"
    },
    {
     "data": {
      "image/png": "[encoded data removed]",
      "text/plain": [
       "<matplotlib.figure.Figure at 0x42402048>"
      ]
     },
     "metadata": {},
     "output_type": "display_data"
    }
   ],
   "source": [
    "sns.barplot(x='Transaction_Type', y='Claim_Incurred', \n",
    "             data=agg_ttyp)"
   ]
  },
  {
   "cell_type": "markdown",
   "metadata": {},
   "source": [
    "** Inference from Transaction Type Analysis **\n",
    "\n",
    "    1. New Business contributes almost double the contribution on Renewal Business in terms of both Volume and Premium\n",
    "    2. Even though the number of Claims lodged by Renewal business is almost half the claims loged by New Business,\n",
    "       the Incurred Cost for Renewal Business stands very low compared to the Incurred Cost for New Business"
   ]
  },
  {
   "cell_type": "markdown",
   "metadata": {},
   "source": [
    "** Understand the distribuions of Policy Count, GWP, Claim Count and Incurred Cost across Public Liability Limit **"
   ]
  },
  {
   "cell_type": "code",
   "execution_count": 177,
   "metadata": {
    "collapsed": true
   },
   "outputs": [],
   "source": [
    "agg_pbll = pd.DataFrame(policy_data_2.groupby(['Public_Liability_Limit'])[['Policy_Count']].sum())\n",
    "agg_pbll['Claim_Count'] = pd.DataFrame(policy_data_2.groupby(['Public_Liability_Limit'])[['Claim_Count']].sum())\n",
    "agg_pbll['Prem'] = pd.DataFrame(policy_data_2.groupby(['Public_Liability_Limit'])[['Gross_Premium_Excl_PI']].sum())\n",
    "agg_pbll['Claim_Incurred'] = pd.DataFrame(policy_data_2.groupby(['Public_Liability_Limit'])[['Claim_Incurred']].sum())"
   ]
  },
  {
   "cell_type": "code",
   "execution_count": 178,
   "metadata": {},
   "outputs": [
    {
     "data": {
      "text/plain": [
       "<matplotlib.axes._subplots.AxesSubplot at 0x425feb70>"
      ]
     },
     "execution_count": 178,
     "metadata": {},
     "output_type": "execute_result"
    },
    {
     "data": {
      "image/png": "[encoded data removed]",
      "text/plain": [
       "<matplotlib.figure.Figure at 0x31327748>"
      ]
     },
     "metadata": {},
     "output_type": "display_data"
    }
   ],
   "source": [
    "agg_pbll['Public_Liability_Limit'] = agg_pbll.index\n",
    "\n",
    "sns.barplot(x='Public_Liability_Limit', y='Policy_Count', \n",
    "             data=agg_pbll)"
   ]
  },
  {
   "cell_type": "code",
   "execution_count": 179,
   "metadata": {},
   "outputs": [
    {
     "data": {
      "text/plain": [
       "<matplotlib.axes._subplots.AxesSubplot at 0x4266d0b8>"
      ]
     },
     "execution_count": 179,
     "metadata": {},
     "output_type": "execute_result"
    },
    {
     "data": {
      "image/png": "[encoded data removed]",
      "text/plain": [
       "<matplotlib.figure.Figure at 0x4264c5c0>"
      ]
     },
     "metadata": {},
     "output_type": "display_data"
    }
   ],
   "source": [
    "sns.barplot(x='Public_Liability_Limit', y='Prem', \n",
    "             data=agg_pbll)"
   ]
  },
  {
   "cell_type": "code",
   "execution_count": 180,
   "metadata": {},
   "outputs": [
    {
     "data": {
      "text/plain": [
       "<matplotlib.axes._subplots.AxesSubplot at 0x426a9470>"
      ]
     },
     "execution_count": 180,
     "metadata": {},
     "output_type": "execute_result"
    },
    {
     "data": {
      "image/png": "[encoded data removed]",
      "text/plain": [
       "<matplotlib.figure.Figure at 0x4248e630>"
      ]
     },
     "metadata": {},
     "output_type": "display_data"
    }
   ],
   "source": [
    "sns.barplot(x='Public_Liability_Limit', y='Claim_Count', \n",
    "             data=agg_pbll)"
   ]
  },
  {
   "cell_type": "code",
   "execution_count": 181,
   "metadata": {},
   "outputs": [
    {
     "data": {
      "text/plain": [
       "<matplotlib.axes._subplots.AxesSubplot at 0x42756e48>"
      ]
     },
     "execution_count": 181,
     "metadata": {},
     "output_type": "execute_result"
    },
    {
     "data": {
      "image/png": "[encoded data removed]",
      "text/plain": [
       "<matplotlib.figure.Figure at 0x426f36d8>"
      ]
     },
     "metadata": {},
     "output_type": "display_data"
    }
   ],
   "source": [
    "sns.barplot(x='Public_Liability_Limit', y='Claim_Incurred', \n",
    "             data=agg_pbll)"
   ]
  },
  {
   "cell_type": "markdown",
   "metadata": {},
   "source": [
    "** Inference from Public Liability Analysis **\n",
    "\n",
    "    1. In terms of Policy Volume, pilicies with liability limit 1M has the highest contribution followed by 2M, 5M and 10M\n",
    "    2. However, in terms of premium policies with 5M limit contributes the highest followed by 2M, 1M and 10M. \n",
    "    3. Premium Contribution % of 10M limit policies is almost double the Volume Contribution % of the same category\n",
    "    4. Policies with 2M Limit brings the maximum number of Claims followed by 1M, 5M and 10M\n",
    "    5. However, CLaim Incurred Cost is highest for policies with 5M limit, followed by 2M, 1M and 10M"
   ]
  },
  {
   "cell_type": "markdown",
   "metadata": {},
   "source": [
    "** Understand the distribuions of Policy Count, GWP, Claim Count and Incurred Cost across Employers Liability Limit **"
   ]
  },
  {
   "cell_type": "code",
   "execution_count": 182,
   "metadata": {
    "collapsed": true
   },
   "outputs": [],
   "source": [
    "agg_emll = pd.DataFrame(policy_data_2.groupby(['Employers_Liability_Limit'])[['Policy_Count']].sum())\n",
    "agg_emll['Claim_Count'] = pd.DataFrame(policy_data_2.groupby(['Employers_Liability_Limit'])[['Claim_Count']].sum())\n",
    "agg_emll['Prem'] = pd.DataFrame(policy_data_2.groupby(['Employers_Liability_Limit'])[['Gross_Premium_Excl_PI']].sum())\n",
    "agg_emll['Claim_Incurred'] = pd.DataFrame(policy_data_2.groupby(['Employers_Liability_Limit'])[['Claim_Incurred']].sum())"
   ]
  },
  {
   "cell_type": "code",
   "execution_count": 183,
   "metadata": {},
   "outputs": [
    {
     "data": {
      "text/plain": [
       "<matplotlib.axes._subplots.AxesSubplot at 0x42742710>"
      ]
     },
     "execution_count": 183,
     "metadata": {},
     "output_type": "execute_result"
    },
    {
     "data": {
      "image/png": "[encoded data removed]",
      "text/plain": [
       "<matplotlib.figure.Figure at 0x42706a90>"
      ]
     },
     "metadata": {},
     "output_type": "display_data"
    }
   ],
   "source": [
    "agg_emll['Employers_Liability_Limit'] = agg_emll.index\n",
    "\n",
    "sns.barplot(x='Employers_Liability_Limit', y='Policy_Count', \n",
    "             data=agg_emll)"
   ]
  },
  {
   "cell_type": "code",
   "execution_count": 184,
   "metadata": {},
   "outputs": [
    {
     "data": {
      "text/plain": [
       "<matplotlib.axes._subplots.AxesSubplot at 0x4292d710>"
      ]
     },
     "execution_count": 184,
     "metadata": {},
     "output_type": "execute_result"
    },
    {
     "data": {
      "image/png": "[encoded data removed]",
      "text/plain": [
       "<matplotlib.figure.Figure at 0x428b7e10>"
      ]
     },
     "metadata": {},
     "output_type": "display_data"
    }
   ],
   "source": [
    "sns.barplot(x='Employers_Liability_Limit', y='Prem', \n",
    "             data=agg_emll)"
   ]
  },
  {
   "cell_type": "code",
   "execution_count": 185,
   "metadata": {},
   "outputs": [
    {
     "data": {
      "text/plain": [
       "<matplotlib.axes._subplots.AxesSubplot at 0x42969e10>"
      ]
     },
     "execution_count": 185,
     "metadata": {},
     "output_type": "execute_result"
    },
    {
     "data": {
      "image/png": "[encoded data removed]",
      "text/plain": [
       "<matplotlib.figure.Figure at 0x42948128>"
      ]
     },
     "metadata": {},
     "output_type": "display_data"
    }
   ],
   "source": [
    "sns.barplot(x='Employers_Liability_Limit', y='Claim_Count', \n",
    "             data=agg_emll)"
   ]
  },
  {
   "cell_type": "code",
   "execution_count": 186,
   "metadata": {},
   "outputs": [
    {
     "data": {
      "text/plain": [
       "<matplotlib.axes._subplots.AxesSubplot at 0x4299a748>"
      ]
     },
     "execution_count": 186,
     "metadata": {},
     "output_type": "execute_result"
    },
    {
     "data": {
      "image/png": "[encoded data removed]",
      "text/plain": [
       "<matplotlib.figure.Figure at 0x428c7400>"
      ]
     },
     "metadata": {},
     "output_type": "display_data"
    }
   ],
   "source": [
    "sns.barplot(x='Employers_Liability_Limit', y='Claim_Incurred',\n",
    "             data=agg_emll)"
   ]
  },
  {
   "cell_type": "markdown",
   "metadata": {},
   "source": [
    "** Inference from Employers Liability Analysis **\n",
    "\n",
    "    1. Policies with 0 Employers Liability limit is the highest in terms of Volume\n",
    "    2. However, in terms of premium policies with 10M imit contributes the highest \n",
    "    3. In terms of Claims Volume, both categories are almost equal contributors\n",
    "    5. But, Claim Incurred Cost is highest for Policies with 10M limit"
   ]
  },
  {
   "cell_type": "markdown",
   "metadata": {},
   "source": [
    "** Understand the distribuions of Policy Count, GWP, Claim Count and Incurred Cost across Professional Indemnity Limit **"
   ]
  },
  {
   "cell_type": "code",
   "execution_count": 187,
   "metadata": {
    "collapsed": true
   },
   "outputs": [],
   "source": [
    "agg_pril = pd.DataFrame(policy_data_2.groupby(['Professional_Indemnity_Limit'])[['Policy_Count']].sum())\n",
    "agg_pril['Claim_Count'] = pd.DataFrame(policy_data_2.groupby(['Professional_Indemnity_Limit'])[['Claim_Count']].sum())\n",
    "agg_pril['Prem'] = pd.DataFrame(policy_data_2.groupby(['Professional_Indemnity_Limit'])[['Gross_Premium_Excl_PI']].sum())\n",
    "agg_pril['Claim_Incurred'] = pd.DataFrame(policy_data_2.groupby(['Professional_Indemnity_Limit'])[['Claim_Incurred']].sum())"
   ]
  },
  {
   "cell_type": "code",
   "execution_count": 188,
   "metadata": {},
   "outputs": [
    {
     "data": {
      "text/plain": [
       "<matplotlib.axes._subplots.AxesSubplot at 0x429fa240>"
      ]
     },
     "execution_count": 188,
     "metadata": {},
     "output_type": "execute_result"
    },
    {
     "data": {
      "image/png": "[encoded data removed]",
      "text/plain": [
       "<matplotlib.figure.Figure at 0x428c70b8>"
      ]
     },
     "metadata": {},
     "output_type": "display_data"
    }
   ],
   "source": [
    "agg_pril['Professional_Indemnity_Limit'] = agg_pril.index\n",
    "\n",
    "sns.barplot(x='Professional_Indemnity_Limit', y='Policy_Count',palette= 'Accent', \n",
    "             data=agg_pril)"
   ]
  },
  {
   "cell_type": "code",
   "execution_count": 189,
   "metadata": {},
   "outputs": [
    {
     "data": {
      "text/plain": [
       "<matplotlib.axes._subplots.AxesSubplot at 0x42881b70>"
      ]
     },
     "execution_count": 189,
     "metadata": {},
     "output_type": "execute_result"
    },
    {
     "data": {
      "image/png": "[encoded data removed]",
      "text/plain": [
       "<matplotlib.figure.Figure at 0x42a5f668>"
      ]
     },
     "metadata": {},
     "output_type": "display_data"
    }
   ],
   "source": [
    "sns.barplot(x='Professional_Indemnity_Limit', y='Prem',palette= 'Accent', \n",
    "             data=agg_pril)"
   ]
  },
  {
   "cell_type": "code",
   "execution_count": 190,
   "metadata": {},
   "outputs": [
    {
     "data": {
      "text/plain": [
       "<matplotlib.axes._subplots.AxesSubplot at 0x42ae4550>"
      ]
     },
     "execution_count": 190,
     "metadata": {},
     "output_type": "execute_result"
    },
    {
     "data": {
      "image/png": "[encoded data removed]",
      "text/plain": [
       "<matplotlib.figure.Figure at 0x42a26d68>"
      ]
     },
     "metadata": {},
     "output_type": "display_data"
    }
   ],
   "source": [
    "sns.barplot(x='Professional_Indemnity_Limit', y='Claim_Count',palette= 'Accent', \n",
    "             data=agg_pril)"
   ]
  },
  {
   "cell_type": "code",
   "execution_count": 201,
   "metadata": {},
   "outputs": [
    {
     "data": {
      "text/plain": [
       "<matplotlib.axes._subplots.AxesSubplot at 0x5939a4e0>"
      ]
     },
     "execution_count": 201,
     "metadata": {},
     "output_type": "execute_result"
    },
    {
     "data": {
      "image/png": "[encoded data removed]",
      "text/plain": [
       "<matplotlib.figure.Figure at 0x593835f8>"
      ]
     },
     "metadata": {},
     "output_type": "display_data"
    }
   ],
   "source": [
    "sns.barplot(x='Professional_Indemnity_Limit', y='Claim_Incurred',palette= 'Accent', \n",
    "             data=agg_pril)"
   ]
  },
  {
   "cell_type": "markdown",
   "metadata": {},
   "source": [
    "**Inference from Professional Indemnity Limit Analysis **\n",
    "\n",
    "    1. Policies with 0 Professional Indemnity limit is the highest contributor across all KPIs\n",
    "    2. For policies with 1M Professional Indemnity, has a relatively higher Policy Volume\n",
    "    3. However, for policies with 2M have a higher Claim Incurred Cost\n"
   ]
  },
  {
   "cell_type": "markdown",
   "metadata": {},
   "source": [
    "** Understand the distribuions of Policy Count, GWP, Claim Count and Incurred Cost across Trade Categories **"
   ]
  },
  {
   "cell_type": "code",
   "execution_count": 204,
   "metadata": {
    "collapsed": true
   },
   "outputs": [],
   "source": [
    "agg_trdc = pd.DataFrame(policy_data_2.groupby(['Trade_1_Category'])[['Policy_Count']].sum())\n",
    "agg_trdc['Claim_Count'] = pd.DataFrame(policy_data_2.groupby(['Trade_1_Category'])[['Claim_Count']].sum())\n",
    "agg_trdc['Prem'] = pd.DataFrame(policy_data_2.groupby(['Trade_1_Category'])[['Gross_Premium_Excl_PI']].sum())\n",
    "agg_trdc['Claim_Incurred'] = pd.DataFrame(policy_data_2.groupby(['Trade_1_Category'])[['Claim_Incurred']].sum())"
   ]
  },
  {
   "cell_type": "code",
   "execution_count": 205,
   "metadata": {},
   "outputs": [
    {
     "data": {
      "text/plain": [
       "<matplotlib.axes._subplots.AxesSubplot at 0x594cb1d0>"
      ]
     },
     "execution_count": 205,
     "metadata": {},
     "output_type": "execute_result"
    },
    {
     "data": {
      "image/png": "[encoded data removed]",
      "text/plain": [
       "<matplotlib.figure.Figure at 0x5949e320>"
      ]
     },
     "metadata": {},
     "output_type": "display_data"
    }
   ],
   "source": [
    "agg_trdc['Trade_1_Category'] = agg_trdc.index\n",
    "\n",
    "a4_dims = (25, 8)\n",
    "fig, ax = plt.subplots(figsize=a4_dims)\n",
    "sns.barplot(ax= ax, x='Trade_1_Category', y='Policy_Count',palette= 'pastel', \n",
    "             data=agg_trdc)"
   ]
  },
  {
   "cell_type": "code",
   "execution_count": 206,
   "metadata": {},
   "outputs": [
    {
     "data": {
      "text/plain": [
       "<matplotlib.axes._subplots.AxesSubplot at 0x59525358>"
      ]
     },
     "execution_count": 206,
     "metadata": {},
     "output_type": "execute_result"
    },
    {
     "data": {
      "image/png": "[encoded data removed]",
      "text/plain": [
       "<matplotlib.figure.Figure at 0x59593eb8>"
      ]
     },
     "metadata": {},
     "output_type": "display_data"
    }
   ],
   "source": [
    "agg_trdc['Trade_1_Category'] = agg_trdc.index\n",
    "\n",
    "a4_dims = (25, 8)\n",
    "fig, ax = plt.subplots(figsize=a4_dims)\n",
    "sns.barplot(ax= ax, x='Trade_1_Category', y='Prem',palette= 'pastel', \n",
    "             data=agg_trdc)"
   ]
  },
  {
   "cell_type": "code",
   "execution_count": 207,
   "metadata": {},
   "outputs": [
    {
     "data": {
      "text/plain": [
       "<matplotlib.axes._subplots.AxesSubplot at 0x5956a518>"
      ]
     },
     "execution_count": 207,
     "metadata": {},
     "output_type": "execute_result"
    },
    {
     "data": {
      "image/png": "[encoded data removed]",
      "text/plain": [
       "<matplotlib.figure.Figure at 0x59633128>"
      ]
     },
     "metadata": {},
     "output_type": "display_data"
    }
   ],
   "source": [
    "agg_trdc['Trade_1_Category'] = agg_trdc.index\n",
    "\n",
    "a4_dims = (25, 8)\n",
    "fig, ax = plt.subplots(figsize=a4_dims)\n",
    "sns.barplot(ax= ax, x='Trade_1_Category', y='Claim_Count',palette= 'pastel', \n",
    "             data=agg_trdc)"
   ]
  },
  {
   "cell_type": "code",
   "execution_count": 210,
   "metadata": {},
   "outputs": [
    {
     "data": {
      "text/plain": [
       "<matplotlib.axes._subplots.AxesSubplot at 0x5a073748>"
      ]
     },
     "execution_count": 210,
     "metadata": {},
     "output_type": "execute_result"
    },
    {
     "data": {
      "image/png": "[encoded data removed]",
      "text/plain": [
       "<matplotlib.figure.Figure at 0x5a090b00>"
      ]
     },
     "metadata": {},
     "output_type": "display_data"
    }
   ],
   "source": [
    "agg_trdc['Trade_1_Category'] = agg_trdc.index\n",
    "\n",
    "a4_dims = (25, 8)\n",
    "fig, ax = plt.subplots(figsize=a4_dims)\n",
    "sns.barplot(ax= ax, x='Trade_1_Category', y='Claim_Incurred',palette= 'pastel', \n",
    "             data=agg_trdc)"
   ]
  },
  {
   "cell_type": "markdown",
   "metadata": {},
   "source": [
    "**Inference from Trade Category Analysis **\n",
    "\n",
    "    1. Majority of Policies are purchased for Professional Employees or Employees working in Building or Allied Services\n",
    "    2. Even though the Polcy Volume is relatively less for HV/Mech Allied, Growund Work and Decline categories, \n",
    "       their Premium Share to the Overall GWP is comparitiely higher \n",
    "    3. Majoriy of claims are received by Building/Allied followed by Mech-Allied Wrk, Professional,and Decline categories\n",
    "    4. Negligle number of claims are received for Arts & Crafts, and Catering Categories\n",
    "    5. Even though the number of Claims received are higher for Professional, Incurred Cost for the same is very less\n",
    "    6. Net Incurred Cost is highest for Building/Allied, followed by Mech/Allied, Cleaning and Decline categories\n",
    "    "
   ]
  },
  {
   "cell_type": "markdown",
   "metadata": {},
   "source": [
    "** Understand the distribuions of Policy Count, GWP, Claim Count and Incurred Cost across Trade Risk Level **"
   ]
  },
  {
   "cell_type": "code",
   "execution_count": 102,
   "metadata": {
    "collapsed": true
   },
   "outputs": [],
   "source": [
    "agg_trrl = pd.DataFrame(policy_data_2.groupby(['Trade_1_Risk_Level'])[['Policy_Count']].sum())\n",
    "agg_trrl['Claim_Count'] = pd.DataFrame(policy_data_2.groupby(['Trade_1_Risk_Level'])[['Claim_Count']].sum())\n",
    "agg_trrl['Prem'] = pd.DataFrame(policy_data_2.groupby(['Trade_1_Risk_Level'])[['Gross_Premium_Excl_PI']].sum())\n",
    "agg_trrl['Claim_Incurred'] = pd.DataFrame(policy_data_2.groupby(['Trade_1_Risk_Level'])[['Claim_Incurred']].sum())"
   ]
  },
  {
   "cell_type": "code",
   "execution_count": 103,
   "metadata": {},
   "outputs": [
    {
     "data": {
      "text/plain": [
       "<matplotlib.axes._subplots.AxesSubplot at 0x2cc43f28>"
      ]
     },
     "execution_count": 103,
     "metadata": {},
     "output_type": "execute_result"
    },
    {
     "data": {
      "image/png": "[encoded data removed]",
      "text/plain": [
       "<matplotlib.figure.Figure at 0x2cc325f8>"
      ]
     },
     "metadata": {},
     "output_type": "display_data"
    }
   ],
   "source": [
    "agg_trrl['Trade_1_Risk_Level'] = agg_trrl.index\n",
    "\n",
    "a4_dims = (25, 8)\n",
    "fig, ax = plt.subplots(figsize=a4_dims)\n",
    "sns.barplot(ax= ax, x='Trade_1_Risk_Level', y='Policy_Count',palette= 'pastel', \n",
    "             data=agg_trrl)"
   ]
  },
  {
   "cell_type": "code",
   "execution_count": 104,
   "metadata": {},
   "outputs": [
    {
     "data": {
      "text/plain": [
       "<matplotlib.axes._subplots.AxesSubplot at 0x2d040cf8>"
      ]
     },
     "execution_count": 104,
     "metadata": {},
     "output_type": "execute_result"
    },
    {
     "data": {
      "image/png": "[encoded data removed]",
      "text/plain": [
       "<matplotlib.figure.Figure at 0x2ce9ccc0>"
      ]
     },
     "metadata": {},
     "output_type": "display_data"
    }
   ],
   "source": [
    "a4_dims = (25, 8)\n",
    "fig, ax = plt.subplots(figsize=a4_dims)\n",
    "sns.barplot(ax= ax, x='Trade_1_Risk_Level', y='Prem',palette= 'pastel', \n",
    "             data=agg_trrl)"
   ]
  },
  {
   "cell_type": "code",
   "execution_count": 105,
   "metadata": {},
   "outputs": [
    {
     "data": {
      "text/plain": [
       "<matplotlib.axes._subplots.AxesSubplot at 0x2d039898>"
      ]
     },
     "execution_count": 105,
     "metadata": {},
     "output_type": "execute_result"
    },
    {
     "data": {
      "image/png": "[encoded data removed]",
      "text/plain": [
       "<matplotlib.figure.Figure at 0x2d0d8518>"
      ]
     },
     "metadata": {},
     "output_type": "display_data"
    }
   ],
   "source": [
    "a4_dims = (25, 8)\n",
    "fig, ax = plt.subplots(figsize=a4_dims)\n",
    "sns.barplot(ax= ax, x='Trade_1_Risk_Level', y='Claim_Count',palette= 'pastel', \n",
    "             data=agg_trrl)"
   ]
  },
  {
   "cell_type": "code",
   "execution_count": 106,
   "metadata": {},
   "outputs": [
    {
     "data": {
      "text/plain": [
       "<matplotlib.axes._subplots.AxesSubplot at 0x2d114780>"
      ]
     },
     "execution_count": 106,
     "metadata": {},
     "output_type": "execute_result"
    },
    {
     "data": {
      "image/png": "[encoded data removed]",
      "text/plain": [
       "<matplotlib.figure.Figure at 0x2d1205c0>"
      ]
     },
     "metadata": {},
     "output_type": "display_data"
    }
   ],
   "source": [
    "a4_dims = (25, 8)\n",
    "fig, ax = plt.subplots(figsize=a4_dims)\n",
    "sns.barplot(ax= ax, x='Trade_1_Risk_Level', y='Claim_Incurred',palette= 'pastel', \n",
    "             data=agg_trrl)"
   ]
  },
  {
   "cell_type": "markdown",
   "metadata": {},
   "source": [
    "**Inference from Trade Risk Level Analysis **\n",
    "\n",
    "    1. Risk Level 2 is the highest contributor for Policy Volume, followed by Level 1, 3 & 7\n",
    "    2. However in terms of Premium Share, Leel 2 is the highest followed by Level 7 and 3. \n",
    "    3. Even though the number of policies is relatiely less for Levels 5 & 6, \n",
    "       their premium share is higher compared to their volume share\n",
    "    4. Level 2 has the highest number of Claims received, followed by Level 3, 7, & 5\n",
    "    5. However, Incurred Cost is highest for Level 7, followed by Levels 4,6 & 5"
   ]
  },
  {
   "cell_type": "code",
   "execution_count": 108,
   "metadata": {},
   "outputs": [
    {
     "data": {
      "text/plain": [
       "array([ 2,  3,  7,  1,  5,  6, 10,  4,  8,  9, 15, 11, 13], dtype=int64)"
      ]
     },
     "execution_count": 108,
     "metadata": {},
     "output_type": "execute_result"
    }
   ],
   "source": [
    "policy_data_2['CombinedTradeRiskLevel'].unique()"
   ]
  },
  {
   "cell_type": "markdown",
   "metadata": {},
   "source": [
    "** Understand the distribuions of Policy Count, GWP, Claim Count and Incurred Cost across Combined Trade Risk Levels **"
   ]
  },
  {
   "cell_type": "code",
   "execution_count": 110,
   "metadata": {
    "collapsed": true
   },
   "outputs": [],
   "source": [
    "agg_ctrl = pd.DataFrame(policy_data_2.groupby(['CombinedTradeRiskLevel'])[['Policy_Count']].sum())\n",
    "agg_ctrl['Claim_Count'] = pd.DataFrame(policy_data_2.groupby(['CombinedTradeRiskLevel'])[['Claim_Count']].sum())\n",
    "agg_ctrl['Prem'] = pd.DataFrame(policy_data_2.groupby(['CombinedTradeRiskLevel'])[['Gross_Premium_Excl_PI']].sum())\n",
    "agg_ctrl['Claim_Incurred'] = pd.DataFrame(policy_data_2.groupby(['CombinedTradeRiskLevel'])[['Claim_Incurred']].sum())"
   ]
  },
  {
   "cell_type": "code",
   "execution_count": 111,
   "metadata": {},
   "outputs": [
    {
     "data": {
      "text/plain": [
       "<matplotlib.axes._subplots.AxesSubplot at 0x2da3b7b8>"
      ]
     },
     "execution_count": 111,
     "metadata": {},
     "output_type": "execute_result"
    },
    {
     "data": {
      "image/png": "[encoded data removed]",
      "text/plain": [
       "<matplotlib.figure.Figure at 0x2da20550>"
      ]
     },
     "metadata": {},
     "output_type": "display_data"
    }
   ],
   "source": [
    "agg_ctrl['CombinedTradeRiskLevel'] = agg_ctrl.index\n",
    "\n",
    "a4_dims = (25, 8)\n",
    "fig, ax = plt.subplots(figsize=a4_dims)\n",
    "sns.barplot(ax= ax, x='CombinedTradeRiskLevel', y='Policy_Count',palette= 'pastel', \n",
    "             data=agg_ctrl)"
   ]
  },
  {
   "cell_type": "code",
   "execution_count": 112,
   "metadata": {},
   "outputs": [
    {
     "data": {
      "text/plain": [
       "<matplotlib.axes._subplots.AxesSubplot at 0x2dd05f28>"
      ]
     },
     "execution_count": 112,
     "metadata": {},
     "output_type": "execute_result"
    },
    {
     "data": {
      "image/png": "[encoded data removed]",
      "text/plain": [
       "<matplotlib.figure.Figure at 0x2dd7fa90>"
      ]
     },
     "metadata": {},
     "output_type": "display_data"
    }
   ],
   "source": [
    "a4_dims = (25, 8)\n",
    "fig, ax = plt.subplots(figsize=a4_dims)\n",
    "sns.barplot(ax= ax, x='CombinedTradeRiskLevel', y='Prem',palette= 'pastel', \n",
    "             data=agg_ctrl)"
   ]
  },
  {
   "cell_type": "code",
   "execution_count": 113,
   "metadata": {},
   "outputs": [
    {
     "data": {
      "text/plain": [
       "<matplotlib.axes._subplots.AxesSubplot at 0x2dd56a90>"
      ]
     },
     "execution_count": 113,
     "metadata": {},
     "output_type": "execute_result"
    },
    {
     "data": {
      "image/png": "[encoded data removed]",
      "text/plain": [
       "<matplotlib.figure.Figure at 0x2e628f28>"
      ]
     },
     "metadata": {},
     "output_type": "display_data"
    }
   ],
   "source": [
    "a4_dims = (25, 8)\n",
    "fig, ax = plt.subplots(figsize=a4_dims)\n",
    "sns.barplot(ax= ax, x='CombinedTradeRiskLevel', y='Claim_Count',palette= 'pastel', \n",
    "             data=agg_ctrl)"
   ]
  },
  {
   "cell_type": "code",
   "execution_count": 114,
   "metadata": {},
   "outputs": [
    {
     "data": {
      "text/plain": [
       "<matplotlib.axes._subplots.AxesSubplot at 0x2ddbd2e8>"
      ]
     },
     "execution_count": 114,
     "metadata": {},
     "output_type": "execute_result"
    },
    {
     "data": {
      "image/png": "[encoded data removed]",
      "text/plain": [
       "<matplotlib.figure.Figure at 0x2e98e9e8>"
      ]
     },
     "metadata": {},
     "output_type": "display_data"
    }
   ],
   "source": [
    "a4_dims = (25, 8)\n",
    "fig, ax = plt.subplots(figsize=a4_dims)\n",
    "sns.barplot(ax= ax, x='CombinedTradeRiskLevel', y='Claim_Incurred',palette= 'pastel', \n",
    "             data=agg_ctrl)"
   ]
  },
  {
   "cell_type": "markdown",
   "metadata": {},
   "source": [
    "**Inference from Trade Risk Level Analysis **\n",
    "\n",
    "    1. Risk Level 1,2,& 3 are the Top Contributors in terms of Volume\n",
    "    2. Level 7 is the highest contributor of Premium followed by Levels 3,2 & 1\n",
    "    3. Even though the number of policies is relatiely less for Levels 5 & 6, \n",
    "       their premium share is higher compared to their volume share\n",
    "    4. Level 2 has the highest number of Claims received, followed by Level 3, 7, & 1\n",
    "    5. However, Incurred Cost is highest for Level 7, followed by Levels 4,6 & 5"
   ]
  },
  {
   "cell_type": "markdown",
   "metadata": {},
   "source": [
    "** Understand the distribuions of Policy Count, GWP, Claim Count and Incurred Cost across Tools Insured Index **"
   ]
  },
  {
   "cell_type": "code",
   "execution_count": 116,
   "metadata": {
    "collapsed": true
   },
   "outputs": [],
   "source": [
    "agg_tsii = pd.DataFrame(policy_data_2.groupby(['Tools_Sum_Insured_Ind'])[['Policy_Count']].sum())\n",
    "agg_tsii['Claim_Count'] = pd.DataFrame(policy_data_2.groupby(['Tools_Sum_Insured_Ind'])[['Claim_Count']].sum())\n",
    "agg_tsii['Prem'] = pd.DataFrame(policy_data_2.groupby(['Tools_Sum_Insured_Ind'])[['Gross_Premium_Excl_PI']].sum())\n",
    "agg_tsii['Claim_Incurred'] = pd.DataFrame(policy_data_2.groupby(['Tools_Sum_Insured_Ind'])[['Claim_Incurred']].sum())"
   ]
  },
  {
   "cell_type": "code",
   "execution_count": 121,
   "metadata": {},
   "outputs": [
    {
     "data": {
      "text/plain": [
       "<matplotlib.axes._subplots.AxesSubplot at 0x2f635ac8>"
      ]
     },
     "execution_count": 121,
     "metadata": {},
     "output_type": "execute_result"
    },
    {
     "data": {
      "image/png": "[encoded data removed]",
      "text/plain": [
       "<matplotlib.figure.Figure at 0x2ece9ac8>"
      ]
     },
     "metadata": {},
     "output_type": "display_data"
    }
   ],
   "source": [
    "agg_tsii['Tools_Sum_Insured_Ind'] = agg_tsii.index\n",
    "\n",
    "a4_dims = (25, 5)\n",
    "fig, ax = plt.subplots(figsize=a4_dims)\n",
    "sns.barplot(ax= ax, x='Tools_Sum_Insured_Ind', y='Policy_Count',palette= 'pastel', \n",
    "             data=agg_tsii)"
   ]
  },
  {
   "cell_type": "code",
   "execution_count": 122,
   "metadata": {},
   "outputs": [
    {
     "data": {
      "text/plain": [
       "<matplotlib.axes._subplots.AxesSubplot at 0x2f64fda0>"
      ]
     },
     "execution_count": 122,
     "metadata": {},
     "output_type": "execute_result"
    },
    {
     "data": {
      "image/png": "[encoded data removed]",
      "text/plain": [
       "<matplotlib.figure.Figure at 0x2f68ec88>"
      ]
     },
     "metadata": {},
     "output_type": "display_data"
    }
   ],
   "source": [
    "a4_dims = (25, 5)\n",
    "fig, ax = plt.subplots(figsize=a4_dims)\n",
    "sns.barplot(ax= ax, x='Tools_Sum_Insured_Ind', y='Prem',palette= 'pastel', \n",
    "             data=agg_tsii)"
   ]
  },
  {
   "cell_type": "code",
   "execution_count": 123,
   "metadata": {},
   "outputs": [
    {
     "data": {
      "text/plain": [
       "<matplotlib.axes._subplots.AxesSubplot at 0x2f6ea3c8>"
      ]
     },
     "execution_count": 123,
     "metadata": {},
     "output_type": "execute_result"
    },
    {
     "data": {
      "image/png": "[encoded data removed]",
      "text/plain": [
       "<matplotlib.figure.Figure at 0x2f6f3ac8>"
      ]
     },
     "metadata": {},
     "output_type": "display_data"
    }
   ],
   "source": [
    "a4_dims = (25, 5)\n",
    "fig, ax = plt.subplots(figsize=a4_dims)\n",
    "sns.barplot(ax= ax, x='Tools_Sum_Insured_Ind', y='Claim_Count',palette= 'pastel', \n",
    "             data=agg_tsii)"
   ]
  },
  {
   "cell_type": "code",
   "execution_count": 124,
   "metadata": {},
   "outputs": [
    {
     "data": {
      "text/plain": [
       "<matplotlib.axes._subplots.AxesSubplot at 0x2f6f9f60>"
      ]
     },
     "execution_count": 124,
     "metadata": {},
     "output_type": "execute_result"
    },
    {
     "data": {
      "image/png": "[encoded data removed]",
      "text/plain": [
       "<matplotlib.figure.Figure at 0x2ff50320>"
      ]
     },
     "metadata": {},
     "output_type": "display_data"
    }
   ],
   "source": [
    "a4_dims = (25, 5)\n",
    "fig, ax = plt.subplots(figsize=a4_dims)\n",
    "sns.barplot(ax= ax, x='Tools_Sum_Insured_Ind', y='Claim_Incurred',palette= 'pastel', \n",
    "             data=agg_tsii)"
   ]
  },
  {
   "cell_type": "code",
   "execution_count": null,
   "metadata": {
    "collapsed": true
   },
   "outputs": [],
   "source": [
    "**Inference from Tools Sum Insured Analysis **\n",
    "\n",
    "    1. Policies with Tools Sum NOT Insured domnates across all the KPIs\n",
    "    2. However, relatively more number of claims are received for Policies with Tools Insured"
   ]
  },
  {
   "cell_type": "markdown",
   "metadata": {},
   "source": [
    "** Understand the distribuions of Policy Count, GWP, Claim Count and Incurred Cost across Contracts Work Insured Index **"
   ]
  },
  {
   "cell_type": "code",
   "execution_count": 126,
   "metadata": {},
   "outputs": [
    {
     "data": {
      "text/plain": [
       "array([0, 1], dtype=int64)"
      ]
     },
     "execution_count": 126,
     "metadata": {},
     "output_type": "execute_result"
    }
   ],
   "source": [
    "policy_data_2['Contract_Works_Sum_Insured_Ind'].unique()"
   ]
  },
  {
   "cell_type": "code",
   "execution_count": 130,
   "metadata": {
    "collapsed": true
   },
   "outputs": [],
   "source": [
    "agg_cwsi = pd.DataFrame(policy_data_2.groupby(['Contract_Works_Sum_Insured_Ind'])[['Policy_Count']].sum())\n",
    "agg_cwsi['Claim_Count'] = pd.DataFrame(policy_data_2.groupby(['Contract_Works_Sum_Insured_Ind'])[['Claim_Count']].sum())\n",
    "agg_cwsi['Prem'] = pd.DataFrame(policy_data_2.groupby(['Contract_Works_Sum_Insured_Ind'])[['Gross_Premium_Excl_PI']].sum())\n",
    "agg_cwsi['Claim_Incurred'] = pd.DataFrame(policy_data_2.groupby(['Contract_Works_Sum_Insured_Ind'])[['Claim_Incurred']].sum())"
   ]
  },
  {
   "cell_type": "code",
   "execution_count": 132,
   "metadata": {},
   "outputs": [
    {
     "data": {
      "text/plain": [
       "<matplotlib.axes._subplots.AxesSubplot at 0x2fff1588>"
      ]
     },
     "execution_count": 132,
     "metadata": {},
     "output_type": "execute_result"
    },
    {
     "data": {
      "image/png": "[encoded data removed]",
      "text/plain": [
       "<matplotlib.figure.Figure at 0x2ffc2be0>"
      ]
     },
     "metadata": {},
     "output_type": "display_data"
    }
   ],
   "source": [
    "agg_cwsi['Contract_Works_Sum_Insured_Ind'] = agg_cwsi.index\n",
    "\n",
    "a4_dims = (25, 5)\n",
    "fig, ax = plt.subplots(figsize=a4_dims)\n",
    "sns.barplot(ax= ax, x='Contract_Works_Sum_Insured_Ind', y='Policy_Count',palette= 'pastel', \n",
    "             data=agg_cwsi)"
   ]
  },
  {
   "cell_type": "code",
   "execution_count": 133,
   "metadata": {},
   "outputs": [
    {
     "data": {
      "text/plain": [
       "<matplotlib.axes._subplots.AxesSubplot at 0x30019208>"
      ]
     },
     "execution_count": 133,
     "metadata": {},
     "output_type": "execute_result"
    },
    {
     "data": {
      "image/png": "[encoded data removed]",
      "text/plain": [
       "<matplotlib.figure.Figure at 0x2ffc2b38>"
      ]
     },
     "metadata": {},
     "output_type": "display_data"
    }
   ],
   "source": [
    "a4_dims = (25, 5)\n",
    "fig, ax = plt.subplots(figsize=a4_dims)\n",
    "sns.barplot(ax= ax, x='Contract_Works_Sum_Insured_Ind', y='Prem',palette= 'pastel', \n",
    "             data=agg_cwsi)"
   ]
  },
  {
   "cell_type": "code",
   "execution_count": 134,
   "metadata": {},
   "outputs": [
    {
     "data": {
      "text/plain": [
       "<matplotlib.axes._subplots.AxesSubplot at 0x3005c0f0>"
      ]
     },
     "execution_count": 134,
     "metadata": {},
     "output_type": "execute_result"
    },
    {
     "data": {
      "image/png": "[encoded data removed]",
      "text/plain": [
       "<matplotlib.figure.Figure at 0x3006d908>"
      ]
     },
     "metadata": {},
     "output_type": "display_data"
    }
   ],
   "source": [
    "a4_dims = (25, 5)\n",
    "fig, ax = plt.subplots(figsize=a4_dims)\n",
    "sns.barplot(ax= ax, x='Contract_Works_Sum_Insured_Ind', y='Claim_Count',palette= 'pastel', \n",
    "             data=agg_cwsi)"
   ]
  },
  {
   "cell_type": "code",
   "execution_count": 135,
   "metadata": {},
   "outputs": [
    {
     "data": {
      "text/plain": [
       "<matplotlib.axes._subplots.AxesSubplot at 0x30704a90>"
      ]
     },
     "execution_count": 135,
     "metadata": {},
     "output_type": "execute_result"
    },
    {
     "data": {
      "image/png": "[encoded data removed]",
      "text/plain": [
       "<matplotlib.figure.Figure at 0x3072e9b0>"
      ]
     },
     "metadata": {},
     "output_type": "display_data"
    }
   ],
   "source": [
    "a4_dims = (25, 5)\n",
    "fig, ax = plt.subplots(figsize=a4_dims)\n",
    "sns.barplot(ax= ax, x='Contract_Works_Sum_Insured_Ind', y='Claim_Incurred',palette= 'pastel', \n",
    "             data=agg_cwsi)"
   ]
  },
  {
   "cell_type": "code",
   "execution_count": null,
   "metadata": {
    "collapsed": true
   },
   "outputs": [],
   "source": [
    "** Inference from Contract Works Insured Analysis **\n",
    "\n",
    "    1. Policies with Contract Works Sum NOT Insured domnates across all the KPIs"
   ]
  },
  {
   "cell_type": "code",
   "execution_count": 213,
   "metadata": {},
   "outputs": [
    {
     "data": {
      "text/plain": [
       "array([0, 1], dtype=int64)"
      ]
     },
     "execution_count": 213,
     "metadata": {},
     "output_type": "execute_result"
    }
   ],
   "source": [
    "policy_data['Hired_in_Plan_Sum_Insured_Ind'].unique()"
   ]
  },
  {
   "cell_type": "code",
   "execution_count": 214,
   "metadata": {
    "collapsed": true
   },
   "outputs": [],
   "source": [
    "agg_hpsi = pd.DataFrame(policy_data_2.groupby(['Hired_in_Plan_Sum_Insured_Ind'])[['Policy_Count']].sum())\n",
    "agg_hpsi['Claim_Count'] = pd.DataFrame(policy_data_2.groupby(['Hired_in_Plan_Sum_Insured_Ind'])[['Claim_Count']].sum())\n",
    "agg_hpsi['Prem'] = pd.DataFrame(policy_data_2.groupby(['Hired_in_Plan_Sum_Insured_Ind'])[['Gross_Premium_Excl_PI']].sum())\n",
    "agg_hpsi['Claim_Incurred'] = pd.DataFrame(policy_data_2.groupby(['Hired_in_Plan_Sum_Insured_Ind'])[['Claim_Incurred']].sum())"
   ]
  },
  {
   "cell_type": "code",
   "execution_count": 215,
   "metadata": {},
   "outputs": [
    {
     "data": {
      "text/plain": [
       "<matplotlib.axes._subplots.AxesSubplot at 0x3128acc0>"
      ]
     },
     "execution_count": 215,
     "metadata": {},
     "output_type": "execute_result"
    },
    {
     "data": {
      "image/png": "[encoded data removed]",
      "text/plain": [
       "<matplotlib.figure.Figure at 0x31333d30>"
      ]
     },
     "metadata": {},
     "output_type": "display_data"
    }
   ],
   "source": [
    "agg_hpsi['Hired_in_Plan_Sum_Insured_Ind'] = agg_hpsi.index\n",
    "\n",
    "a4_dims = (25, 5)\n",
    "fig, ax = plt.subplots(figsize=a4_dims)\n",
    "sns.barplot(ax= ax, x='Hired_in_Plan_Sum_Insured_Ind', y='Policy_Count',palette= 'pastel', \n",
    "             data=agg_hpsi)"
   ]
  },
  {
   "cell_type": "code",
   "execution_count": 216,
   "metadata": {},
   "outputs": [
    {
     "data": {
      "text/plain": [
       "<matplotlib.axes._subplots.AxesSubplot at 0x2ffc2400>"
      ]
     },
     "execution_count": 216,
     "metadata": {},
     "output_type": "execute_result"
    },
    {
     "data": {
      "image/png": "[encoded data removed]",
      "text/plain": [
       "<matplotlib.figure.Figure at 0x300092e8>"
      ]
     },
     "metadata": {},
     "output_type": "display_data"
    }
   ],
   "source": [
    "a4_dims = (25, 5)\n",
    "fig, ax = plt.subplots(figsize=a4_dims)\n",
    "sns.barplot(ax= ax, x='Hired_in_Plan_Sum_Insured_Ind', y='Prem',palette= 'pastel', \n",
    "             data=agg_hpsi)"
   ]
  },
  {
   "cell_type": "code",
   "execution_count": 217,
   "metadata": {},
   "outputs": [
    {
     "data": {
      "text/plain": [
       "<matplotlib.axes._subplots.AxesSubplot at 0x2ff26630>"
      ]
     },
     "execution_count": 217,
     "metadata": {},
     "output_type": "execute_result"
    },
    {
     "data": {
      "image/png": "[encoded data removed]",
      "text/plain": [
       "<matplotlib.figure.Figure at 0x2ffd72e8>"
      ]
     },
     "metadata": {},
     "output_type": "display_data"
    }
   ],
   "source": [
    "a4_dims = (25, 5)\n",
    "fig, ax = plt.subplots(figsize=a4_dims)\n",
    "sns.barplot(ax= ax, x='Hired_in_Plan_Sum_Insured_Ind', y='Claim_Count',palette= 'pastel', \n",
    "             data=agg_hpsi)"
   ]
  },
  {
   "cell_type": "code",
   "execution_count": 218,
   "metadata": {},
   "outputs": [
    {
     "data": {
      "text/plain": [
       "<matplotlib.axes._subplots.AxesSubplot at 0x2feea320>"
      ]
     },
     "execution_count": 218,
     "metadata": {},
     "output_type": "execute_result"
    },
    {
     "data": {
      "image/png": "[encoded data removed]",
      "text/plain": [
       "<matplotlib.figure.Figure at 0x2feffb70>"
      ]
     },
     "metadata": {},
     "output_type": "display_data"
    }
   ],
   "source": [
    "a4_dims = (25, 5)\n",
    "fig, ax = plt.subplots(figsize=a4_dims)\n",
    "sns.barplot(ax= ax, x='Hired_in_Plan_Sum_Insured_Ind', y='Claim_Incurred',palette= 'pastel', \n",
    "             data=agg_hpsi)"
   ]
  },
  {
   "cell_type": "markdown",
   "metadata": {},
   "source": [
    "** Inference from Contract Hired In Plan Analysis **\n",
    "\n",
    "    1. Policies with Hired in Plan Sum NOT Insured domnates across all the KPIs"
   ]
  },
  {
   "cell_type": "code",
   "execution_count": null,
   "metadata": {
    "collapsed": true
   },
   "outputs": [],
   "source": [
    "** Understand the distribuions of Policy Count, GWP, Claim Count and Incurred Cost across Own Plant Insured Index **"
   ]
  },
  {
   "cell_type": "code",
   "execution_count": 220,
   "metadata": {
    "collapsed": true
   },
   "outputs": [],
   "source": [
    "agg_opsi = pd.DataFrame(policy_data_2.groupby(['Own_Plant_Sum_Insured_Ind'])[['Policy_Count']].sum())\n",
    "agg_opsi['Claim_Count'] = pd.DataFrame(policy_data_2.groupby(['Own_Plant_Sum_Insured_Ind'])[['Claim_Count']].sum())\n",
    "agg_opsi['Prem'] = pd.DataFrame(policy_data_2.groupby(['Own_Plant_Sum_Insured_Ind'])[['Gross_Premium_Excl_PI']].sum())\n",
    "agg_opsi['Claim_Incurred'] = pd.DataFrame(policy_data_2.groupby(['Own_Plant_Sum_Insured_Ind'])[['Claim_Incurred']].sum())"
   ]
  },
  {
   "cell_type": "code",
   "execution_count": 221,
   "metadata": {},
   "outputs": [
    {
     "data": {
      "text/plain": [
       "<matplotlib.axes._subplots.AxesSubplot at 0x2cc5fbe0>"
      ]
     },
     "execution_count": 221,
     "metadata": {},
     "output_type": "execute_result"
    },
    {
     "data": {
      "image/png": "[encoded data removed]",
      "text/plain": [
       "<matplotlib.figure.Figure at 0x2d1ca748>"
      ]
     },
     "metadata": {},
     "output_type": "display_data"
    }
   ],
   "source": [
    "agg_opsi['Own_Plant_Sum_Insured_Ind'] = agg_opsi.index\n",
    "\n",
    "a4_dims = (25, 5)\n",
    "fig, ax = plt.subplots(figsize=a4_dims)\n",
    "sns.barplot(ax= ax, x='Own_Plant_Sum_Insured_Ind', y='Policy_Count',palette= 'pastel', \n",
    "             data=agg_opsi)"
   ]
  },
  {
   "cell_type": "code",
   "execution_count": 222,
   "metadata": {},
   "outputs": [
    {
     "data": {
      "text/plain": [
       "<matplotlib.axes._subplots.AxesSubplot at 0x2cf03d68>"
      ]
     },
     "execution_count": 222,
     "metadata": {},
     "output_type": "execute_result"
    },
    {
     "data": {
      "image/png": "[encoded data removed]",
      "text/plain": [
       "<matplotlib.figure.Figure at 0x2cf1d2e8>"
      ]
     },
     "metadata": {},
     "output_type": "display_data"
    }
   ],
   "source": [
    "a4_dims = (25, 5)\n",
    "fig, ax = plt.subplots(figsize=a4_dims)\n",
    "sns.barplot(ax= ax, x='Own_Plant_Sum_Insured_Ind', y='Prem',palette= 'pastel', \n",
    "             data=agg_opsi)"
   ]
  },
  {
   "cell_type": "code",
   "execution_count": 223,
   "metadata": {},
   "outputs": [
    {
     "data": {
      "text/plain": [
       "<matplotlib.axes._subplots.AxesSubplot at 0x2cf516a0>"
      ]
     },
     "execution_count": 223,
     "metadata": {},
     "output_type": "execute_result"
    },
    {
     "data": {
      "image/png": "[encoded data removed]",
      "text/plain": [
       "<matplotlib.figure.Figure at 0x2fedb2e8>"
      ]
     },
     "metadata": {},
     "output_type": "display_data"
    }
   ],
   "source": [
    "a4_dims = (25, 5)\n",
    "fig, ax = plt.subplots(figsize=a4_dims)\n",
    "sns.barplot(ax= ax, x='Own_Plant_Sum_Insured_Ind', y='Claim_Count',palette= 'pastel', \n",
    "             data=agg_opsi)"
   ]
  },
  {
   "cell_type": "code",
   "execution_count": 224,
   "metadata": {},
   "outputs": [
    {
     "data": {
      "text/plain": [
       "<matplotlib.axes._subplots.AxesSubplot at 0x2cc63358>"
      ]
     },
     "execution_count": 224,
     "metadata": {},
     "output_type": "execute_result"
    },
    {
     "data": {
      "image/png": "[encoded data removed]",
      "text/plain": [
       "<matplotlib.figure.Figure at 0x2cc64c18>"
      ]
     },
     "metadata": {},
     "output_type": "display_data"
    }
   ],
   "source": [
    "a4_dims = (25, 5)\n",
    "fig, ax = plt.subplots(figsize=a4_dims)\n",
    "sns.barplot(ax= ax, x='Own_Plant_Sum_Insured_Ind', y='Claim_Incurred',palette= 'pastel', \n",
    "             data=agg_opsi)"
   ]
  },
  {
   "cell_type": "markdown",
   "metadata": {},
   "source": [
    "** Inference from Own Plant Insured Analysis **\n",
    "\n",
    "    1. Policies with Hired in Own Plant NOT Insured domnates across all the KPIs"
   ]
  },
  {
   "cell_type": "markdown",
   "metadata": {},
   "source": [
    "** Exploratoy Data Analysis: Part II - Feature Trend Analysis **\n",
    "\n",
    "So far, we have been focussing on the overall performance(including Policy and Claims) for each feature.\n",
    "\n",
    "Since our objective is to predict whether a Claim will be lodged for a Policy or not, we'll try to understand the features and their trends in influencing a claim.\n",
    "\n",
    "Hence, we'll be plotting graphs only for Claim Count and Claim Incurred"
   ]
  },
  {
   "cell_type": "markdown",
   "metadata": {},
   "source": [
    "1. ** Understand the YoY Distribution for Products across KPIs**"
   ]
  },
  {
   "cell_type": "code",
   "execution_count": null,
   "metadata": {},
   "outputs": [],
   "source": [
    "a4_dims = (25, 5)\n",
    "fig, ax = plt.subplots(figsize=a4_dims)\n",
    "sns.barplot(ax= ax, x='Underwriting_Year', y=policy_data_2['Policy_Count'].sum(), hue= 'Product',palette= 'pastel', \n",
    "             data=policy_data_2)\n",
    "\n",
    "a4_dims = (25, 5)\n",
    "fig, ax = plt.subplots(figsize=a4_dims)\n",
    "sns.barplot(ax= ax, x='Underwriting_Year', y='Gross_Premium_Excl_PI', hue= 'Product',palette= 'pastel', \n",
    "             data=policy_data_2)\n",
    "\n",
    "a4_dims = (25, 5)\n",
    "fig, ax = plt.subplots(figsize=a4_dims)\n",
    "sns.barplot(ax= ax, x='Underwriting_Year', y='Claim_Count', hue= 'Product',palette= 'pastel', \n",
    "             data=policy_data_2)\n",
    "\n",
    "a4_dims = (25, 5)\n",
    "fig, ax = plt.subplots(figsize=a4_dims)\n",
    "sns.barplot(ax= ax, x='Underwriting_Year', y='Claim_Incurred', hue= 'Product',palette= 'pastel', \n",
    "             data=policy_data_2)"
   ]
  },
  {
   "cell_type": "markdown",
   "metadata": {},
   "source": [
    "** Inference from the YoY Product Distribution:**\n",
    "    1. In years till 2012, only Trademen - Non-Dqi product was sold\n",
    "    2. Only in 2013 and 2014 all products were sold\n",
    "    3. No claims were lodged fro Mailings Tradesmen Product in 2013\n",
    "    4. Even though claims were lodged for Mailing Trademen in 2014, the Incurred Cost was relatively less"
   ]
  },
  {
   "cell_type": "code",
   "execution_count": 2,
   "metadata": {},
   "outputs": [
    {
     "ename": "NameError",
     "evalue": "name 'plt' is not defined",
     "output_type": "error",
     "traceback": [
      "\u001b[1;31m---------------------------------------------------------------------------\u001b[0m",
      "\u001b[1;31mNameError\u001b[0m                                 Traceback (most recent call last)",
      "\u001b[1;32m<ipython-input-2-3057186793f1>\u001b[0m in \u001b[0;36m<module>\u001b[1;34m()\u001b[0m\n\u001b[0;32m      1\u001b[0m \u001b[0ma4_dims\u001b[0m \u001b[1;33m=\u001b[0m \u001b[1;33m(\u001b[0m\u001b[1;36m25\u001b[0m\u001b[1;33m,\u001b[0m \u001b[1;36m5\u001b[0m\u001b[1;33m)\u001b[0m\u001b[1;33m\u001b[0m\u001b[0m\n\u001b[1;32m----> 2\u001b[1;33m \u001b[0mfig\u001b[0m\u001b[1;33m,\u001b[0m \u001b[0max\u001b[0m \u001b[1;33m=\u001b[0m \u001b[0mplt\u001b[0m\u001b[1;33m.\u001b[0m\u001b[0msubplots\u001b[0m\u001b[1;33m(\u001b[0m\u001b[0mfigsize\u001b[0m\u001b[1;33m=\u001b[0m\u001b[0ma4_dims\u001b[0m\u001b[1;33m)\u001b[0m\u001b[1;33m\u001b[0m\u001b[0m\n\u001b[0m\u001b[0;32m      3\u001b[0m sns.barplot(ax= ax, x='Underwriting_Year', y='Policy_Count', hue= 'Transaction_Type',palette= 'pastel', \n\u001b[0;32m      4\u001b[0m              data=policy_data_2)\n\u001b[0;32m      5\u001b[0m \u001b[1;33m\u001b[0m\u001b[0m\n",
      "\u001b[1;31mNameError\u001b[0m: name 'plt' is not defined"
     ]
    }
   ],
   "source": [
    "a4_dims = (25, 5)\n",
    "fig, ax = plt.subplots(figsize=a4_dims)\n",
    "sns.barplot(ax= ax, x='Underwriting_Year', y='Policy_Count', hue= 'Transaction_Type',palette= 'pastel', \n",
    "             data=policy_data_2)\n",
    "\n",
    "a4_dims = (25, 5)\n",
    "fig, ax = plt.subplots(figsize=a4_dims)\n",
    "sns.barplot(ax= ax, x='Underwriting_Year', y='Gross_Premium_Excl_PI', hue= 'Transaction_Type',palette= 'pastel', \n",
    "             data=policy_data_2)\n",
    "\n",
    "a4_dims = (25, 5)\n",
    "fig, ax = plt.subplots(figsize=a4_dims)\n",
    "sns.barplot(ax= ax, x='Underwriting_Year', y='Claim_Count', hue= 'Transaction_Type',palette= 'pastel', \n",
    "             data=policy_data_2)\n",
    "\n",
    "a4_dims = (25, 5)\n",
    "fig, ax = plt.subplots(figsize=a4_dims)\n",
    "sns.barplot(ax= ax, x='Underwriting_Year', y='Claim_Incurred', hue= 'Transaction_Type',palette= 'pastel', \n",
    "             data=policy_data_2)"
   ]
  },
  {
   "cell_type": "code",
   "execution_count": null,
   "metadata": {
    "collapsed": true
   },
   "outputs": [],
   "source": []
  }
 ],
 "metadata": {
  "kernelspec": {
   "display_name": "Python 3",
   "language": "python",
   "name": "python3"
  },
  "language_info": {
   "codemirror_mode": {
    "name": "ipython",
    "version": 3
   },
   "file_extension": ".py",
   "mimetype": "text/x-python",
   "name": "python",
   "nbconvert_exporter": "python",
   "pygments_lexer": "ipython3",
   "version": "3.6.3"
  }
 },
 "nbformat": 4,
 "nbformat_minor": 2
}
